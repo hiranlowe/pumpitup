{
 "cells": [
  {
   "cell_type": "markdown",
   "id": "3d1b86af",
   "metadata": {},
   "source": [
    "# Importing Libraries"
   ]
  },
  {
   "cell_type": "code",
   "execution_count": 78,
   "id": "deff06c0",
   "metadata": {},
   "outputs": [
    {
     "ename": "ModuleNotFoundError",
     "evalue": "No module named 'geopandas'",
     "output_type": "error",
     "traceback": [
      "\u001b[0;31m---------------------------------------------------------------------------\u001b[0m",
      "\u001b[0;31mModuleNotFoundError\u001b[0m                       Traceback (most recent call last)",
      "\u001b[0;32m/tmp/ipykernel_1776/2407513794.py\u001b[0m in \u001b[0;36m<module>\u001b[0;34m\u001b[0m\n\u001b[1;32m     21\u001b[0m \u001b[0;32mimport\u001b[0m \u001b[0mseaborn\u001b[0m \u001b[0;32mas\u001b[0m \u001b[0msns\u001b[0m\u001b[0;34m\u001b[0m\u001b[0;34m\u001b[0m\u001b[0m\n\u001b[1;32m     22\u001b[0m \u001b[0;32mimport\u001b[0m \u001b[0mmatplotlib\u001b[0m\u001b[0;34m.\u001b[0m\u001b[0mpyplot\u001b[0m \u001b[0;32mas\u001b[0m \u001b[0mplt\u001b[0m\u001b[0;34m\u001b[0m\u001b[0;34m\u001b[0m\u001b[0m\n\u001b[0;32m---> 23\u001b[0;31m \u001b[0;32mimport\u001b[0m \u001b[0mgeopandas\u001b[0m\u001b[0;34m\u001b[0m\u001b[0;34m\u001b[0m\u001b[0m\n\u001b[0m",
      "\u001b[0;31mModuleNotFoundError\u001b[0m: No module named 'geopandas'"
     ]
    }
   ],
   "source": [
    "import numpy as np\n",
    "import pandas as pd\n",
    "\n",
    "from sklearn.model_selection import train_test_split,GridSearchCV\n",
    "from sklearn.metrics import confusion_matrix, accuracy_score,classification_report,roc_curve,roc_auc_score,plot_confusion_matrix, ConfusionMatrixDisplay\n",
    "from sklearn.model_selection import cross_val_score, RepeatedStratifiedKFold\n",
    "from sklearn.preprocessing import LabelEncoder\n",
    "from sklearn.pipeline import Pipeline\n",
    "\n",
    "from pandas_profiling import ProfileReport\n",
    "\n",
    "from imblearn.over_sampling import SMOTE\n",
    "\n",
    "from xgboost import XGBClassifier\n",
    "\n",
    "import optuna\n",
    "from optuna import Trial, visualization\n",
    "from optuna.samplers import TPESampler\n",
    "import joblib\n",
    "\n",
    "import seaborn as sns\n",
    "import matplotlib.pyplot as plt\n",
    "import geopandas"
   ]
  },
  {
   "cell_type": "markdown",
   "id": "1894c38f",
   "metadata": {},
   "source": [
    "# Importing datasets"
   ]
  },
  {
   "cell_type": "code",
   "execution_count": 79,
   "id": "83170490",
   "metadata": {},
   "outputs": [],
   "source": [
    "train=pd.read_csv(\"training_set_features.csv\",index_col=\"id\")\n",
    "train_labels=pd.read_csv(\"training_set_labels.csv\",index_col=\"id\")\n",
    "test=pd.read_csv(\"test_set_features.csv\",index_col=\"id\")"
   ]
  },
  {
   "cell_type": "markdown",
   "id": "b0229d95",
   "metadata": {},
   "source": [
    "# Exploring Data and Selecting Features"
   ]
  },
  {
   "cell_type": "code",
   "execution_count": 80,
   "id": "5c09b0bb",
   "metadata": {},
   "outputs": [
    {
     "data": {
      "text/html": [
       "<div>\n",
       "<style scoped>\n",
       "    .dataframe tbody tr th:only-of-type {\n",
       "        vertical-align: middle;\n",
       "    }\n",
       "\n",
       "    .dataframe tbody tr th {\n",
       "        vertical-align: top;\n",
       "    }\n",
       "\n",
       "    .dataframe thead th {\n",
       "        text-align: right;\n",
       "    }\n",
       "</style>\n",
       "<table border=\"1\" class=\"dataframe\">\n",
       "  <thead>\n",
       "    <tr style=\"text-align: right;\">\n",
       "      <th></th>\n",
       "      <th>amount_tsh</th>\n",
       "      <th>date_recorded</th>\n",
       "      <th>funder</th>\n",
       "      <th>gps_height</th>\n",
       "      <th>installer</th>\n",
       "      <th>longitude</th>\n",
       "      <th>latitude</th>\n",
       "      <th>wpt_name</th>\n",
       "      <th>num_private</th>\n",
       "      <th>basin</th>\n",
       "      <th>...</th>\n",
       "      <th>payment_type</th>\n",
       "      <th>water_quality</th>\n",
       "      <th>quality_group</th>\n",
       "      <th>quantity</th>\n",
       "      <th>quantity_group</th>\n",
       "      <th>source</th>\n",
       "      <th>source_type</th>\n",
       "      <th>source_class</th>\n",
       "      <th>waterpoint_type</th>\n",
       "      <th>waterpoint_type_group</th>\n",
       "    </tr>\n",
       "    <tr>\n",
       "      <th>id</th>\n",
       "      <th></th>\n",
       "      <th></th>\n",
       "      <th></th>\n",
       "      <th></th>\n",
       "      <th></th>\n",
       "      <th></th>\n",
       "      <th></th>\n",
       "      <th></th>\n",
       "      <th></th>\n",
       "      <th></th>\n",
       "      <th></th>\n",
       "      <th></th>\n",
       "      <th></th>\n",
       "      <th></th>\n",
       "      <th></th>\n",
       "      <th></th>\n",
       "      <th></th>\n",
       "      <th></th>\n",
       "      <th></th>\n",
       "      <th></th>\n",
       "      <th></th>\n",
       "    </tr>\n",
       "  </thead>\n",
       "  <tbody>\n",
       "    <tr>\n",
       "      <th>69572</th>\n",
       "      <td>6000.0</td>\n",
       "      <td>2011-03-14</td>\n",
       "      <td>Roman</td>\n",
       "      <td>1390</td>\n",
       "      <td>Roman</td>\n",
       "      <td>34.938093</td>\n",
       "      <td>-9.856322</td>\n",
       "      <td>none</td>\n",
       "      <td>0</td>\n",
       "      <td>Lake Nyasa</td>\n",
       "      <td>...</td>\n",
       "      <td>annually</td>\n",
       "      <td>soft</td>\n",
       "      <td>good</td>\n",
       "      <td>enough</td>\n",
       "      <td>enough</td>\n",
       "      <td>spring</td>\n",
       "      <td>spring</td>\n",
       "      <td>groundwater</td>\n",
       "      <td>communal standpipe</td>\n",
       "      <td>communal standpipe</td>\n",
       "    </tr>\n",
       "    <tr>\n",
       "      <th>8776</th>\n",
       "      <td>0.0</td>\n",
       "      <td>2013-03-06</td>\n",
       "      <td>Grumeti</td>\n",
       "      <td>1399</td>\n",
       "      <td>GRUMETI</td>\n",
       "      <td>34.698766</td>\n",
       "      <td>-2.147466</td>\n",
       "      <td>Zahanati</td>\n",
       "      <td>0</td>\n",
       "      <td>Lake Victoria</td>\n",
       "      <td>...</td>\n",
       "      <td>never pay</td>\n",
       "      <td>soft</td>\n",
       "      <td>good</td>\n",
       "      <td>insufficient</td>\n",
       "      <td>insufficient</td>\n",
       "      <td>rainwater harvesting</td>\n",
       "      <td>rainwater harvesting</td>\n",
       "      <td>surface</td>\n",
       "      <td>communal standpipe</td>\n",
       "      <td>communal standpipe</td>\n",
       "    </tr>\n",
       "    <tr>\n",
       "      <th>34310</th>\n",
       "      <td>25.0</td>\n",
       "      <td>2013-02-25</td>\n",
       "      <td>Lottery Club</td>\n",
       "      <td>686</td>\n",
       "      <td>World vision</td>\n",
       "      <td>37.460664</td>\n",
       "      <td>-3.821329</td>\n",
       "      <td>Kwa Mahundi</td>\n",
       "      <td>0</td>\n",
       "      <td>Pangani</td>\n",
       "      <td>...</td>\n",
       "      <td>per bucket</td>\n",
       "      <td>soft</td>\n",
       "      <td>good</td>\n",
       "      <td>enough</td>\n",
       "      <td>enough</td>\n",
       "      <td>dam</td>\n",
       "      <td>dam</td>\n",
       "      <td>surface</td>\n",
       "      <td>communal standpipe multiple</td>\n",
       "      <td>communal standpipe</td>\n",
       "    </tr>\n",
       "    <tr>\n",
       "      <th>67743</th>\n",
       "      <td>0.0</td>\n",
       "      <td>2013-01-28</td>\n",
       "      <td>Unicef</td>\n",
       "      <td>263</td>\n",
       "      <td>UNICEF</td>\n",
       "      <td>38.486161</td>\n",
       "      <td>-11.155298</td>\n",
       "      <td>Zahanati Ya Nanyumbu</td>\n",
       "      <td>0</td>\n",
       "      <td>Ruvuma / Southern Coast</td>\n",
       "      <td>...</td>\n",
       "      <td>never pay</td>\n",
       "      <td>soft</td>\n",
       "      <td>good</td>\n",
       "      <td>dry</td>\n",
       "      <td>dry</td>\n",
       "      <td>machine dbh</td>\n",
       "      <td>borehole</td>\n",
       "      <td>groundwater</td>\n",
       "      <td>communal standpipe multiple</td>\n",
       "      <td>communal standpipe</td>\n",
       "    </tr>\n",
       "    <tr>\n",
       "      <th>19728</th>\n",
       "      <td>0.0</td>\n",
       "      <td>2011-07-13</td>\n",
       "      <td>Action In A</td>\n",
       "      <td>0</td>\n",
       "      <td>Artisan</td>\n",
       "      <td>31.130847</td>\n",
       "      <td>-1.825359</td>\n",
       "      <td>Shuleni</td>\n",
       "      <td>0</td>\n",
       "      <td>Lake Victoria</td>\n",
       "      <td>...</td>\n",
       "      <td>never pay</td>\n",
       "      <td>soft</td>\n",
       "      <td>good</td>\n",
       "      <td>seasonal</td>\n",
       "      <td>seasonal</td>\n",
       "      <td>rainwater harvesting</td>\n",
       "      <td>rainwater harvesting</td>\n",
       "      <td>surface</td>\n",
       "      <td>communal standpipe</td>\n",
       "      <td>communal standpipe</td>\n",
       "    </tr>\n",
       "  </tbody>\n",
       "</table>\n",
       "<p>5 rows × 39 columns</p>\n",
       "</div>"
      ],
      "text/plain": [
       "       amount_tsh date_recorded        funder  gps_height     installer  \\\n",
       "id                                                                        \n",
       "69572      6000.0    2011-03-14         Roman        1390         Roman   \n",
       "8776          0.0    2013-03-06       Grumeti        1399       GRUMETI   \n",
       "34310        25.0    2013-02-25  Lottery Club         686  World vision   \n",
       "67743         0.0    2013-01-28        Unicef         263        UNICEF   \n",
       "19728         0.0    2011-07-13   Action In A           0       Artisan   \n",
       "\n",
       "       longitude   latitude              wpt_name  num_private  \\\n",
       "id                                                               \n",
       "69572  34.938093  -9.856322                  none            0   \n",
       "8776   34.698766  -2.147466              Zahanati            0   \n",
       "34310  37.460664  -3.821329           Kwa Mahundi            0   \n",
       "67743  38.486161 -11.155298  Zahanati Ya Nanyumbu            0   \n",
       "19728  31.130847  -1.825359               Shuleni            0   \n",
       "\n",
       "                         basin  ... payment_type water_quality  quality_group  \\\n",
       "id                              ...                                             \n",
       "69572               Lake Nyasa  ...     annually          soft           good   \n",
       "8776             Lake Victoria  ...    never pay          soft           good   \n",
       "34310                  Pangani  ...   per bucket          soft           good   \n",
       "67743  Ruvuma / Southern Coast  ...    never pay          soft           good   \n",
       "19728            Lake Victoria  ...    never pay          soft           good   \n",
       "\n",
       "           quantity quantity_group                source  \\\n",
       "id                                                         \n",
       "69572        enough         enough                spring   \n",
       "8776   insufficient   insufficient  rainwater harvesting   \n",
       "34310        enough         enough                   dam   \n",
       "67743           dry            dry           machine dbh   \n",
       "19728      seasonal       seasonal  rainwater harvesting   \n",
       "\n",
       "                source_type source_class              waterpoint_type  \\\n",
       "id                                                                      \n",
       "69572                spring  groundwater           communal standpipe   \n",
       "8776   rainwater harvesting      surface           communal standpipe   \n",
       "34310                   dam      surface  communal standpipe multiple   \n",
       "67743              borehole  groundwater  communal standpipe multiple   \n",
       "19728  rainwater harvesting      surface           communal standpipe   \n",
       "\n",
       "      waterpoint_type_group  \n",
       "id                           \n",
       "69572    communal standpipe  \n",
       "8776     communal standpipe  \n",
       "34310    communal standpipe  \n",
       "67743    communal standpipe  \n",
       "19728    communal standpipe  \n",
       "\n",
       "[5 rows x 39 columns]"
      ]
     },
     "execution_count": 80,
     "metadata": {},
     "output_type": "execute_result"
    }
   ],
   "source": [
    "train.head()"
   ]
  },
  {
   "cell_type": "code",
   "execution_count": 81,
   "id": "6b2da53a",
   "metadata": {},
   "outputs": [
    {
     "data": {
      "text/html": [
       "<div>\n",
       "<style scoped>\n",
       "    .dataframe tbody tr th:only-of-type {\n",
       "        vertical-align: middle;\n",
       "    }\n",
       "\n",
       "    .dataframe tbody tr th {\n",
       "        vertical-align: top;\n",
       "    }\n",
       "\n",
       "    .dataframe thead th {\n",
       "        text-align: right;\n",
       "    }\n",
       "</style>\n",
       "<table border=\"1\" class=\"dataframe\">\n",
       "  <thead>\n",
       "    <tr style=\"text-align: right;\">\n",
       "      <th></th>\n",
       "      <th>amount_tsh</th>\n",
       "      <th>gps_height</th>\n",
       "      <th>longitude</th>\n",
       "      <th>latitude</th>\n",
       "      <th>num_private</th>\n",
       "      <th>region_code</th>\n",
       "      <th>district_code</th>\n",
       "      <th>population</th>\n",
       "      <th>construction_year</th>\n",
       "    </tr>\n",
       "  </thead>\n",
       "  <tbody>\n",
       "    <tr>\n",
       "      <th>count</th>\n",
       "      <td>59400.000000</td>\n",
       "      <td>59400.000000</td>\n",
       "      <td>59400.000000</td>\n",
       "      <td>5.940000e+04</td>\n",
       "      <td>59400.000000</td>\n",
       "      <td>59400.000000</td>\n",
       "      <td>59400.000000</td>\n",
       "      <td>59400.000000</td>\n",
       "      <td>59400.000000</td>\n",
       "    </tr>\n",
       "    <tr>\n",
       "      <th>mean</th>\n",
       "      <td>317.650385</td>\n",
       "      <td>668.297239</td>\n",
       "      <td>34.077427</td>\n",
       "      <td>-5.706033e+00</td>\n",
       "      <td>0.474141</td>\n",
       "      <td>15.297003</td>\n",
       "      <td>5.629747</td>\n",
       "      <td>179.909983</td>\n",
       "      <td>1300.652475</td>\n",
       "    </tr>\n",
       "    <tr>\n",
       "      <th>std</th>\n",
       "      <td>2997.574558</td>\n",
       "      <td>693.116350</td>\n",
       "      <td>6.567432</td>\n",
       "      <td>2.946019e+00</td>\n",
       "      <td>12.236230</td>\n",
       "      <td>17.587406</td>\n",
       "      <td>9.633649</td>\n",
       "      <td>471.482176</td>\n",
       "      <td>951.620547</td>\n",
       "    </tr>\n",
       "    <tr>\n",
       "      <th>min</th>\n",
       "      <td>0.000000</td>\n",
       "      <td>-90.000000</td>\n",
       "      <td>0.000000</td>\n",
       "      <td>-1.164944e+01</td>\n",
       "      <td>0.000000</td>\n",
       "      <td>1.000000</td>\n",
       "      <td>0.000000</td>\n",
       "      <td>0.000000</td>\n",
       "      <td>0.000000</td>\n",
       "    </tr>\n",
       "    <tr>\n",
       "      <th>25%</th>\n",
       "      <td>0.000000</td>\n",
       "      <td>0.000000</td>\n",
       "      <td>33.090347</td>\n",
       "      <td>-8.540621e+00</td>\n",
       "      <td>0.000000</td>\n",
       "      <td>5.000000</td>\n",
       "      <td>2.000000</td>\n",
       "      <td>0.000000</td>\n",
       "      <td>0.000000</td>\n",
       "    </tr>\n",
       "    <tr>\n",
       "      <th>50%</th>\n",
       "      <td>0.000000</td>\n",
       "      <td>369.000000</td>\n",
       "      <td>34.908743</td>\n",
       "      <td>-5.021597e+00</td>\n",
       "      <td>0.000000</td>\n",
       "      <td>12.000000</td>\n",
       "      <td>3.000000</td>\n",
       "      <td>25.000000</td>\n",
       "      <td>1986.000000</td>\n",
       "    </tr>\n",
       "    <tr>\n",
       "      <th>75%</th>\n",
       "      <td>20.000000</td>\n",
       "      <td>1319.250000</td>\n",
       "      <td>37.178387</td>\n",
       "      <td>-3.326156e+00</td>\n",
       "      <td>0.000000</td>\n",
       "      <td>17.000000</td>\n",
       "      <td>5.000000</td>\n",
       "      <td>215.000000</td>\n",
       "      <td>2004.000000</td>\n",
       "    </tr>\n",
       "    <tr>\n",
       "      <th>max</th>\n",
       "      <td>350000.000000</td>\n",
       "      <td>2770.000000</td>\n",
       "      <td>40.345193</td>\n",
       "      <td>-2.000000e-08</td>\n",
       "      <td>1776.000000</td>\n",
       "      <td>99.000000</td>\n",
       "      <td>80.000000</td>\n",
       "      <td>30500.000000</td>\n",
       "      <td>2013.000000</td>\n",
       "    </tr>\n",
       "  </tbody>\n",
       "</table>\n",
       "</div>"
      ],
      "text/plain": [
       "          amount_tsh    gps_height     longitude      latitude   num_private  \\\n",
       "count   59400.000000  59400.000000  59400.000000  5.940000e+04  59400.000000   \n",
       "mean      317.650385    668.297239     34.077427 -5.706033e+00      0.474141   \n",
       "std      2997.574558    693.116350      6.567432  2.946019e+00     12.236230   \n",
       "min         0.000000    -90.000000      0.000000 -1.164944e+01      0.000000   \n",
       "25%         0.000000      0.000000     33.090347 -8.540621e+00      0.000000   \n",
       "50%         0.000000    369.000000     34.908743 -5.021597e+00      0.000000   \n",
       "75%        20.000000   1319.250000     37.178387 -3.326156e+00      0.000000   \n",
       "max    350000.000000   2770.000000     40.345193 -2.000000e-08   1776.000000   \n",
       "\n",
       "        region_code  district_code    population  construction_year  \n",
       "count  59400.000000   59400.000000  59400.000000       59400.000000  \n",
       "mean      15.297003       5.629747    179.909983        1300.652475  \n",
       "std       17.587406       9.633649    471.482176         951.620547  \n",
       "min        1.000000       0.000000      0.000000           0.000000  \n",
       "25%        5.000000       2.000000      0.000000           0.000000  \n",
       "50%       12.000000       3.000000     25.000000        1986.000000  \n",
       "75%       17.000000       5.000000    215.000000        2004.000000  \n",
       "max       99.000000      80.000000  30500.000000        2013.000000  "
      ]
     },
     "execution_count": 81,
     "metadata": {},
     "output_type": "execute_result"
    }
   ],
   "source": [
    "train.describe()"
   ]
  },
  {
   "cell_type": "code",
   "execution_count": 82,
   "id": "4e107925",
   "metadata": {},
   "outputs": [
    {
     "name": "stdout",
     "output_type": "stream",
     "text": [
      "<class 'pandas.core.frame.DataFrame'>\n",
      "Int64Index: 59400 entries, 69572 to 26348\n",
      "Data columns (total 39 columns):\n",
      " #   Column                 Non-Null Count  Dtype  \n",
      "---  ------                 --------------  -----  \n",
      " 0   amount_tsh             59400 non-null  float64\n",
      " 1   date_recorded          59400 non-null  object \n",
      " 2   funder                 55765 non-null  object \n",
      " 3   gps_height             59400 non-null  int64  \n",
      " 4   installer              55745 non-null  object \n",
      " 5   longitude              59400 non-null  float64\n",
      " 6   latitude               59400 non-null  float64\n",
      " 7   wpt_name               59400 non-null  object \n",
      " 8   num_private            59400 non-null  int64  \n",
      " 9   basin                  59400 non-null  object \n",
      " 10  subvillage             59029 non-null  object \n",
      " 11  region                 59400 non-null  object \n",
      " 12  region_code            59400 non-null  int64  \n",
      " 13  district_code          59400 non-null  int64  \n",
      " 14  lga                    59400 non-null  object \n",
      " 15  ward                   59400 non-null  object \n",
      " 16  population             59400 non-null  int64  \n",
      " 17  public_meeting         56066 non-null  object \n",
      " 18  recorded_by            59400 non-null  object \n",
      " 19  scheme_management      55523 non-null  object \n",
      " 20  scheme_name            31234 non-null  object \n",
      " 21  permit                 56344 non-null  object \n",
      " 22  construction_year      59400 non-null  int64  \n",
      " 23  extraction_type        59400 non-null  object \n",
      " 24  extraction_type_group  59400 non-null  object \n",
      " 25  extraction_type_class  59400 non-null  object \n",
      " 26  management             59400 non-null  object \n",
      " 27  management_group       59400 non-null  object \n",
      " 28  payment                59400 non-null  object \n",
      " 29  payment_type           59400 non-null  object \n",
      " 30  water_quality          59400 non-null  object \n",
      " 31  quality_group          59400 non-null  object \n",
      " 32  quantity               59400 non-null  object \n",
      " 33  quantity_group         59400 non-null  object \n",
      " 34  source                 59400 non-null  object \n",
      " 35  source_type            59400 non-null  object \n",
      " 36  source_class           59400 non-null  object \n",
      " 37  waterpoint_type        59400 non-null  object \n",
      " 38  waterpoint_type_group  59400 non-null  object \n",
      "dtypes: float64(3), int64(6), object(30)\n",
      "memory usage: 18.1+ MB\n"
     ]
    }
   ],
   "source": [
    "train.info()"
   ]
  },
  {
   "cell_type": "markdown",
   "id": "424342c9",
   "metadata": {},
   "source": [
    "Find Target classes details"
   ]
  },
  {
   "cell_type": "code",
   "execution_count": 83,
   "id": "7fdedc60",
   "metadata": {},
   "outputs": [
    {
     "name": "stdout",
     "output_type": "stream",
     "text": [
      "status_group           \n",
      "functional                 32259\n",
      "non functional             22824\n",
      "functional needs repair     4317\n",
      "dtype: int64\n"
     ]
    },
    {
     "data": {
      "image/png": "[encoded data removed]",
      "text/plain": [
       "<Figure size 432x288 with 1 Axes>"
      ]
     },
     "metadata": {
      "needs_background": "light"
     },
     "output_type": "display_data"
    }
   ],
   "source": [
    "train_labels.value_counts().plot(kind = 'barh')\n",
    "print(train_labels.value_counts())"
   ]
  },
  {
   "cell_type": "code",
   "execution_count": 84,
   "id": "7fe1fd3d",
   "metadata": {},
   "outputs": [],
   "source": [
    "# profile = ProfileReport(train, title=\"Pandas Profiling Report\", explorative=True)\n",
    "# profile.to_notebook_iframe()"
   ]
  },
  {
   "cell_type": "code",
   "execution_count": 85,
   "id": "588528e8",
   "metadata": {},
   "outputs": [
    {
     "data": {
      "text/plain": [
       "(59400, 39)"
      ]
     },
     "execution_count": 85,
     "metadata": {},
     "output_type": "execute_result"
    }
   ],
   "source": [
    "train.shape"
   ]
  },
  {
   "cell_type": "code",
   "execution_count": 86,
   "id": "b597c019",
   "metadata": {},
   "outputs": [],
   "source": [
    "data = train.join(train_labels) #join with target classes"
   ]
  },
  {
   "cell_type": "markdown",
   "id": "fba5e42c",
   "metadata": {},
   "source": [
    "After some research about the datset and the data it was found that some columns are similar with respect to the water pump functionality. So, those identified columns are dropped to reduce the dimensions of the the dataset.<br> \n",
    "&emsp;management, management_group, scheme_management <br>\n",
    "&emsp;quantity, quantity_group <br>\n",
    "&emsp;water_quality, quality_group<br>\n",
    "&emsp;source, source_type, source_class<br>\n",
    "&emsp;extraction_type, Extraction_type_group, extraction_type_class <br>\n",
    "&emsp;payment, payment_type <br>\n",
    "&emsp;waterpoint_type, waterpoint_type_group <br>\n",
    "&emsp;region, region_code, subvillage <br>"
   ]
  },
  {
   "cell_type": "code",
   "execution_count": 87,
   "id": "1006d2ba",
   "metadata": {},
   "outputs": [
    {
     "data": {
      "text/plain": [
       "vwc                 40507\n",
       "wug                  6515\n",
       "water board          2933\n",
       "wua                  2535\n",
       "private operator     1971\n",
       "parastatal           1768\n",
       "water authority       904\n",
       "other                 844\n",
       "company               685\n",
       "unknown               561\n",
       "other - school         99\n",
       "trust                  78\n",
       "Name: management, dtype: int64"
      ]
     },
     "execution_count": 87,
     "metadata": {},
     "output_type": "execute_result"
    }
   ],
   "source": [
    "data['management'].value_counts()"
   ]
  },
  {
   "cell_type": "code",
   "execution_count": 88,
   "id": "92457982",
   "metadata": {},
   "outputs": [
    {
     "data": {
      "text/plain": [
       "user-group    52490\n",
       "commercial     3638\n",
       "parastatal     1768\n",
       "other           943\n",
       "unknown         561\n",
       "Name: management_group, dtype: int64"
      ]
     },
     "execution_count": 88,
     "metadata": {},
     "output_type": "execute_result"
    }
   ],
   "source": [
    "data['management_group'].value_counts()"
   ]
  },
  {
   "cell_type": "code",
   "execution_count": 89,
   "id": "9edfdeaa",
   "metadata": {},
   "outputs": [
    {
     "data": {
      "text/plain": [
       "VWC                 36793\n",
       "WUG                  5206\n",
       "Water authority      3153\n",
       "WUA                  2883\n",
       "Water Board          2748\n",
       "Parastatal           1680\n",
       "Private operator     1063\n",
       "Company              1061\n",
       "Other                 766\n",
       "SWC                    97\n",
       "Trust                  72\n",
       "None                    1\n",
       "Name: scheme_management, dtype: int64"
      ]
     },
     "execution_count": 89,
     "metadata": {},
     "output_type": "execute_result"
    }
   ],
   "source": [
    "data['scheme_management'].value_counts()"
   ]
  },
  {
   "cell_type": "code",
   "execution_count": 90,
   "id": "436e48da",
   "metadata": {},
   "outputs": [
    {
     "data": {
      "text/html": [
       "<div>\n",
       "<style scoped>\n",
       "    .dataframe tbody tr th:only-of-type {\n",
       "        vertical-align: middle;\n",
       "    }\n",
       "\n",
       "    .dataframe tbody tr th {\n",
       "        vertical-align: top;\n",
       "    }\n",
       "\n",
       "    .dataframe thead th {\n",
       "        text-align: right;\n",
       "    }\n",
       "</style>\n",
       "<table border=\"1\" class=\"dataframe\">\n",
       "  <thead>\n",
       "    <tr style=\"text-align: right;\">\n",
       "      <th></th>\n",
       "      <th></th>\n",
       "      <th>amount_tsh</th>\n",
       "      <th>date_recorded</th>\n",
       "      <th>funder</th>\n",
       "      <th>gps_height</th>\n",
       "      <th>installer</th>\n",
       "      <th>longitude</th>\n",
       "      <th>latitude</th>\n",
       "      <th>wpt_name</th>\n",
       "      <th>num_private</th>\n",
       "      <th>basin</th>\n",
       "      <th>...</th>\n",
       "      <th>water_quality</th>\n",
       "      <th>quality_group</th>\n",
       "      <th>quantity</th>\n",
       "      <th>quantity_group</th>\n",
       "      <th>source</th>\n",
       "      <th>source_type</th>\n",
       "      <th>source_class</th>\n",
       "      <th>waterpoint_type</th>\n",
       "      <th>waterpoint_type_group</th>\n",
       "      <th>status_group</th>\n",
       "    </tr>\n",
       "    <tr>\n",
       "      <th>management_group</th>\n",
       "      <th>management</th>\n",
       "      <th></th>\n",
       "      <th></th>\n",
       "      <th></th>\n",
       "      <th></th>\n",
       "      <th></th>\n",
       "      <th></th>\n",
       "      <th></th>\n",
       "      <th></th>\n",
       "      <th></th>\n",
       "      <th></th>\n",
       "      <th></th>\n",
       "      <th></th>\n",
       "      <th></th>\n",
       "      <th></th>\n",
       "      <th></th>\n",
       "      <th></th>\n",
       "      <th></th>\n",
       "      <th></th>\n",
       "      <th></th>\n",
       "      <th></th>\n",
       "      <th></th>\n",
       "    </tr>\n",
       "  </thead>\n",
       "  <tbody>\n",
       "    <tr>\n",
       "      <th rowspan=\"4\" valign=\"top\">commercial</th>\n",
       "      <th>company</th>\n",
       "      <td>685</td>\n",
       "      <td>685</td>\n",
       "      <td>663</td>\n",
       "      <td>685</td>\n",
       "      <td>663</td>\n",
       "      <td>685</td>\n",
       "      <td>685</td>\n",
       "      <td>685</td>\n",
       "      <td>685</td>\n",
       "      <td>685</td>\n",
       "      <td>...</td>\n",
       "      <td>685</td>\n",
       "      <td>685</td>\n",
       "      <td>685</td>\n",
       "      <td>685</td>\n",
       "      <td>685</td>\n",
       "      <td>685</td>\n",
       "      <td>685</td>\n",
       "      <td>685</td>\n",
       "      <td>685</td>\n",
       "      <td>685</td>\n",
       "    </tr>\n",
       "    <tr>\n",
       "      <th>private operator</th>\n",
       "      <td>1971</td>\n",
       "      <td>1971</td>\n",
       "      <td>1957</td>\n",
       "      <td>1971</td>\n",
       "      <td>1959</td>\n",
       "      <td>1971</td>\n",
       "      <td>1971</td>\n",
       "      <td>1971</td>\n",
       "      <td>1971</td>\n",
       "      <td>1971</td>\n",
       "      <td>...</td>\n",
       "      <td>1971</td>\n",
       "      <td>1971</td>\n",
       "      <td>1971</td>\n",
       "      <td>1971</td>\n",
       "      <td>1971</td>\n",
       "      <td>1971</td>\n",
       "      <td>1971</td>\n",
       "      <td>1971</td>\n",
       "      <td>1971</td>\n",
       "      <td>1971</td>\n",
       "    </tr>\n",
       "    <tr>\n",
       "      <th>trust</th>\n",
       "      <td>78</td>\n",
       "      <td>78</td>\n",
       "      <td>78</td>\n",
       "      <td>78</td>\n",
       "      <td>78</td>\n",
       "      <td>78</td>\n",
       "      <td>78</td>\n",
       "      <td>78</td>\n",
       "      <td>78</td>\n",
       "      <td>78</td>\n",
       "      <td>...</td>\n",
       "      <td>78</td>\n",
       "      <td>78</td>\n",
       "      <td>78</td>\n",
       "      <td>78</td>\n",
       "      <td>78</td>\n",
       "      <td>78</td>\n",
       "      <td>78</td>\n",
       "      <td>78</td>\n",
       "      <td>78</td>\n",
       "      <td>78</td>\n",
       "    </tr>\n",
       "    <tr>\n",
       "      <th>water authority</th>\n",
       "      <td>904</td>\n",
       "      <td>904</td>\n",
       "      <td>836</td>\n",
       "      <td>904</td>\n",
       "      <td>836</td>\n",
       "      <td>904</td>\n",
       "      <td>904</td>\n",
       "      <td>904</td>\n",
       "      <td>904</td>\n",
       "      <td>904</td>\n",
       "      <td>...</td>\n",
       "      <td>904</td>\n",
       "      <td>904</td>\n",
       "      <td>904</td>\n",
       "      <td>904</td>\n",
       "      <td>904</td>\n",
       "      <td>904</td>\n",
       "      <td>904</td>\n",
       "      <td>904</td>\n",
       "      <td>904</td>\n",
       "      <td>904</td>\n",
       "    </tr>\n",
       "    <tr>\n",
       "      <th rowspan=\"2\" valign=\"top\">other</th>\n",
       "      <th>other</th>\n",
       "      <td>844</td>\n",
       "      <td>844</td>\n",
       "      <td>837</td>\n",
       "      <td>844</td>\n",
       "      <td>831</td>\n",
       "      <td>844</td>\n",
       "      <td>844</td>\n",
       "      <td>844</td>\n",
       "      <td>844</td>\n",
       "      <td>844</td>\n",
       "      <td>...</td>\n",
       "      <td>844</td>\n",
       "      <td>844</td>\n",
       "      <td>844</td>\n",
       "      <td>844</td>\n",
       "      <td>844</td>\n",
       "      <td>844</td>\n",
       "      <td>844</td>\n",
       "      <td>844</td>\n",
       "      <td>844</td>\n",
       "      <td>844</td>\n",
       "    </tr>\n",
       "    <tr>\n",
       "      <th>other - school</th>\n",
       "      <td>99</td>\n",
       "      <td>99</td>\n",
       "      <td>99</td>\n",
       "      <td>99</td>\n",
       "      <td>99</td>\n",
       "      <td>99</td>\n",
       "      <td>99</td>\n",
       "      <td>99</td>\n",
       "      <td>99</td>\n",
       "      <td>99</td>\n",
       "      <td>...</td>\n",
       "      <td>99</td>\n",
       "      <td>99</td>\n",
       "      <td>99</td>\n",
       "      <td>99</td>\n",
       "      <td>99</td>\n",
       "      <td>99</td>\n",
       "      <td>99</td>\n",
       "      <td>99</td>\n",
       "      <td>99</td>\n",
       "      <td>99</td>\n",
       "    </tr>\n",
       "    <tr>\n",
       "      <th>parastatal</th>\n",
       "      <th>parastatal</th>\n",
       "      <td>1768</td>\n",
       "      <td>1768</td>\n",
       "      <td>1624</td>\n",
       "      <td>1768</td>\n",
       "      <td>1626</td>\n",
       "      <td>1768</td>\n",
       "      <td>1768</td>\n",
       "      <td>1768</td>\n",
       "      <td>1768</td>\n",
       "      <td>1768</td>\n",
       "      <td>...</td>\n",
       "      <td>1768</td>\n",
       "      <td>1768</td>\n",
       "      <td>1768</td>\n",
       "      <td>1768</td>\n",
       "      <td>1768</td>\n",
       "      <td>1768</td>\n",
       "      <td>1768</td>\n",
       "      <td>1768</td>\n",
       "      <td>1768</td>\n",
       "      <td>1768</td>\n",
       "    </tr>\n",
       "    <tr>\n",
       "      <th>unknown</th>\n",
       "      <th>unknown</th>\n",
       "      <td>561</td>\n",
       "      <td>561</td>\n",
       "      <td>533</td>\n",
       "      <td>561</td>\n",
       "      <td>527</td>\n",
       "      <td>561</td>\n",
       "      <td>561</td>\n",
       "      <td>561</td>\n",
       "      <td>561</td>\n",
       "      <td>561</td>\n",
       "      <td>...</td>\n",
       "      <td>561</td>\n",
       "      <td>561</td>\n",
       "      <td>561</td>\n",
       "      <td>561</td>\n",
       "      <td>561</td>\n",
       "      <td>561</td>\n",
       "      <td>561</td>\n",
       "      <td>561</td>\n",
       "      <td>561</td>\n",
       "      <td>561</td>\n",
       "    </tr>\n",
       "    <tr>\n",
       "      <th rowspan=\"4\" valign=\"top\">user-group</th>\n",
       "      <th>vwc</th>\n",
       "      <td>40507</td>\n",
       "      <td>40507</td>\n",
       "      <td>37632</td>\n",
       "      <td>40507</td>\n",
       "      <td>37630</td>\n",
       "      <td>40507</td>\n",
       "      <td>40507</td>\n",
       "      <td>40507</td>\n",
       "      <td>40507</td>\n",
       "      <td>40507</td>\n",
       "      <td>...</td>\n",
       "      <td>40507</td>\n",
       "      <td>40507</td>\n",
       "      <td>40507</td>\n",
       "      <td>40507</td>\n",
       "      <td>40507</td>\n",
       "      <td>40507</td>\n",
       "      <td>40507</td>\n",
       "      <td>40507</td>\n",
       "      <td>40507</td>\n",
       "      <td>40507</td>\n",
       "    </tr>\n",
       "    <tr>\n",
       "      <th>water board</th>\n",
       "      <td>2933</td>\n",
       "      <td>2933</td>\n",
       "      <td>2715</td>\n",
       "      <td>2933</td>\n",
       "      <td>2714</td>\n",
       "      <td>2933</td>\n",
       "      <td>2933</td>\n",
       "      <td>2933</td>\n",
       "      <td>2933</td>\n",
       "      <td>2933</td>\n",
       "      <td>...</td>\n",
       "      <td>2933</td>\n",
       "      <td>2933</td>\n",
       "      <td>2933</td>\n",
       "      <td>2933</td>\n",
       "      <td>2933</td>\n",
       "      <td>2933</td>\n",
       "      <td>2933</td>\n",
       "      <td>2933</td>\n",
       "      <td>2933</td>\n",
       "      <td>2933</td>\n",
       "    </tr>\n",
       "    <tr>\n",
       "      <th>wua</th>\n",
       "      <td>2535</td>\n",
       "      <td>2535</td>\n",
       "      <td>2308</td>\n",
       "      <td>2535</td>\n",
       "      <td>2309</td>\n",
       "      <td>2535</td>\n",
       "      <td>2535</td>\n",
       "      <td>2535</td>\n",
       "      <td>2535</td>\n",
       "      <td>2535</td>\n",
       "      <td>...</td>\n",
       "      <td>2535</td>\n",
       "      <td>2535</td>\n",
       "      <td>2535</td>\n",
       "      <td>2535</td>\n",
       "      <td>2535</td>\n",
       "      <td>2535</td>\n",
       "      <td>2535</td>\n",
       "      <td>2535</td>\n",
       "      <td>2535</td>\n",
       "      <td>2535</td>\n",
       "    </tr>\n",
       "    <tr>\n",
       "      <th>wug</th>\n",
       "      <td>6515</td>\n",
       "      <td>6515</td>\n",
       "      <td>6483</td>\n",
       "      <td>6515</td>\n",
       "      <td>6473</td>\n",
       "      <td>6515</td>\n",
       "      <td>6515</td>\n",
       "      <td>6515</td>\n",
       "      <td>6515</td>\n",
       "      <td>6515</td>\n",
       "      <td>...</td>\n",
       "      <td>6515</td>\n",
       "      <td>6515</td>\n",
       "      <td>6515</td>\n",
       "      <td>6515</td>\n",
       "      <td>6515</td>\n",
       "      <td>6515</td>\n",
       "      <td>6515</td>\n",
       "      <td>6515</td>\n",
       "      <td>6515</td>\n",
       "      <td>6515</td>\n",
       "    </tr>\n",
       "  </tbody>\n",
       "</table>\n",
       "<p>12 rows × 38 columns</p>\n",
       "</div>"
      ],
      "text/plain": [
       "                                   amount_tsh  date_recorded  funder  \\\n",
       "management_group management                                            \n",
       "commercial       company                  685            685     663   \n",
       "                 private operator        1971           1971    1957   \n",
       "                 trust                     78             78      78   \n",
       "                 water authority          904            904     836   \n",
       "other            other                    844            844     837   \n",
       "                 other - school            99             99      99   \n",
       "parastatal       parastatal              1768           1768    1624   \n",
       "unknown          unknown                  561            561     533   \n",
       "user-group       vwc                    40507          40507   37632   \n",
       "                 water board             2933           2933    2715   \n",
       "                 wua                     2535           2535    2308   \n",
       "                 wug                     6515           6515    6483   \n",
       "\n",
       "                                   gps_height  installer  longitude  latitude  \\\n",
       "management_group management                                                     \n",
       "commercial       company                  685        663        685       685   \n",
       "                 private operator        1971       1959       1971      1971   \n",
       "                 trust                     78         78         78        78   \n",
       "                 water authority          904        836        904       904   \n",
       "other            other                    844        831        844       844   \n",
       "                 other - school            99         99         99        99   \n",
       "parastatal       parastatal              1768       1626       1768      1768   \n",
       "unknown          unknown                  561        527        561       561   \n",
       "user-group       vwc                    40507      37630      40507     40507   \n",
       "                 water board             2933       2714       2933      2933   \n",
       "                 wua                     2535       2309       2535      2535   \n",
       "                 wug                     6515       6473       6515      6515   \n",
       "\n",
       "                                   wpt_name  num_private  basin  ...  \\\n",
       "management_group management                                      ...   \n",
       "commercial       company                685          685    685  ...   \n",
       "                 private operator      1971         1971   1971  ...   \n",
       "                 trust                   78           78     78  ...   \n",
       "                 water authority        904          904    904  ...   \n",
       "other            other                  844          844    844  ...   \n",
       "                 other - school          99           99     99  ...   \n",
       "parastatal       parastatal            1768         1768   1768  ...   \n",
       "unknown          unknown                561          561    561  ...   \n",
       "user-group       vwc                  40507        40507  40507  ...   \n",
       "                 water board           2933         2933   2933  ...   \n",
       "                 wua                   2535         2535   2535  ...   \n",
       "                 wug                   6515         6515   6515  ...   \n",
       "\n",
       "                                   water_quality  quality_group  quantity  \\\n",
       "management_group management                                                 \n",
       "commercial       company                     685            685       685   \n",
       "                 private operator           1971           1971      1971   \n",
       "                 trust                        78             78        78   \n",
       "                 water authority             904            904       904   \n",
       "other            other                       844            844       844   \n",
       "                 other - school               99             99        99   \n",
       "parastatal       parastatal                 1768           1768      1768   \n",
       "unknown          unknown                     561            561       561   \n",
       "user-group       vwc                       40507          40507     40507   \n",
       "                 water board                2933           2933      2933   \n",
       "                 wua                        2535           2535      2535   \n",
       "                 wug                        6515           6515      6515   \n",
       "\n",
       "                                   quantity_group  source  source_type  \\\n",
       "management_group management                                              \n",
       "commercial       company                      685     685          685   \n",
       "                 private operator            1971    1971         1971   \n",
       "                 trust                         78      78           78   \n",
       "                 water authority              904     904          904   \n",
       "other            other                        844     844          844   \n",
       "                 other - school                99      99           99   \n",
       "parastatal       parastatal                  1768    1768         1768   \n",
       "unknown          unknown                      561     561          561   \n",
       "user-group       vwc                        40507   40507        40507   \n",
       "                 water board                 2933    2933         2933   \n",
       "                 wua                         2535    2535         2535   \n",
       "                 wug                         6515    6515         6515   \n",
       "\n",
       "                                   source_class  waterpoint_type  \\\n",
       "management_group management                                        \n",
       "commercial       company                    685              685   \n",
       "                 private operator          1971             1971   \n",
       "                 trust                       78               78   \n",
       "                 water authority            904              904   \n",
       "other            other                      844              844   \n",
       "                 other - school              99               99   \n",
       "parastatal       parastatal                1768             1768   \n",
       "unknown          unknown                    561              561   \n",
       "user-group       vwc                      40507            40507   \n",
       "                 water board               2933             2933   \n",
       "                 wua                       2535             2535   \n",
       "                 wug                       6515             6515   \n",
       "\n",
       "                                   waterpoint_type_group  status_group  \n",
       "management_group management                                             \n",
       "commercial       company                             685           685  \n",
       "                 private operator                   1971          1971  \n",
       "                 trust                                78            78  \n",
       "                 water authority                     904           904  \n",
       "other            other                               844           844  \n",
       "                 other - school                       99            99  \n",
       "parastatal       parastatal                         1768          1768  \n",
       "unknown          unknown                             561           561  \n",
       "user-group       vwc                               40507         40507  \n",
       "                 water board                        2933          2933  \n",
       "                 wua                                2535          2535  \n",
       "                 wug                                6515          6515  \n",
       "\n",
       "[12 rows x 38 columns]"
      ]
     },
     "execution_count": 90,
     "metadata": {},
     "output_type": "execute_result"
    }
   ],
   "source": [
    "data.groupby(['management_group','management']).count() "
   ]
  },
  {
   "cell_type": "markdown",
   "id": "0ed5b267",
   "metadata": {},
   "source": [
    "management_group is the grouped version of management column. So considering the cardinality management_group is dropped."
   ]
  },
  {
   "cell_type": "code",
   "execution_count": 91,
   "id": "3928c401",
   "metadata": {},
   "outputs": [
    {
     "data": {
      "text/plain": [
       "enough          33186\n",
       "insufficient    15129\n",
       "dry              6246\n",
       "seasonal         4050\n",
       "unknown           789\n",
       "Name: quantity, dtype: int64"
      ]
     },
     "execution_count": 91,
     "metadata": {},
     "output_type": "execute_result"
    }
   ],
   "source": [
    "data['quantity'].value_counts()"
   ]
  },
  {
   "cell_type": "code",
   "execution_count": 92,
   "id": "20f41458",
   "metadata": {},
   "outputs": [
    {
     "data": {
      "text/plain": [
       "enough          33186\n",
       "insufficient    15129\n",
       "dry              6246\n",
       "seasonal         4050\n",
       "unknown           789\n",
       "Name: quantity_group, dtype: int64"
      ]
     },
     "execution_count": 92,
     "metadata": {},
     "output_type": "execute_result"
    }
   ],
   "source": [
    "data['quantity_group'].value_counts()"
   ]
  },
  {
   "cell_type": "code",
   "execution_count": 93,
   "id": "1577ec44",
   "metadata": {},
   "outputs": [
    {
     "data": {
      "text/plain": [
       "spring                  17021\n",
       "shallow well            16824\n",
       "machine dbh             11075\n",
       "river                    9612\n",
       "rainwater harvesting     2295\n",
       "hand dtw                  874\n",
       "lake                      765\n",
       "dam                       656\n",
       "other                     212\n",
       "unknown                    66\n",
       "Name: source, dtype: int64"
      ]
     },
     "execution_count": 93,
     "metadata": {},
     "output_type": "execute_result"
    }
   ],
   "source": [
    "data['source'].value_counts() #low cardinality"
   ]
  },
  {
   "cell_type": "code",
   "execution_count": 94,
   "id": "43987f89",
   "metadata": {},
   "outputs": [
    {
     "data": {
      "text/plain": [
       "spring                  17021\n",
       "shallow well            16824\n",
       "borehole                11949\n",
       "river/lake              10377\n",
       "rainwater harvesting     2295\n",
       "dam                       656\n",
       "other                     278\n",
       "Name: source_type, dtype: int64"
      ]
     },
     "execution_count": 94,
     "metadata": {},
     "output_type": "execute_result"
    }
   ],
   "source": [
    "data['source_type'].value_counts()"
   ]
  },
  {
   "cell_type": "code",
   "execution_count": 95,
   "id": "4c5573aa",
   "metadata": {},
   "outputs": [
    {
     "data": {
      "text/plain": [
       "groundwater    45794\n",
       "surface        13328\n",
       "unknown          278\n",
       "Name: source_class, dtype: int64"
      ]
     },
     "execution_count": 95,
     "metadata": {},
     "output_type": "execute_result"
    }
   ],
   "source": [
    "data['source_class'].value_counts()"
   ]
  },
  {
   "cell_type": "code",
   "execution_count": 96,
   "id": "4cdda22a",
   "metadata": {},
   "outputs": [
    {
     "data": {
      "text/html": [
       "<div>\n",
       "<style scoped>\n",
       "    .dataframe tbody tr th:only-of-type {\n",
       "        vertical-align: middle;\n",
       "    }\n",
       "\n",
       "    .dataframe tbody tr th {\n",
       "        vertical-align: top;\n",
       "    }\n",
       "\n",
       "    .dataframe thead th {\n",
       "        text-align: right;\n",
       "    }\n",
       "</style>\n",
       "<table border=\"1\" class=\"dataframe\">\n",
       "  <thead>\n",
       "    <tr style=\"text-align: right;\">\n",
       "      <th></th>\n",
       "      <th></th>\n",
       "      <th>amount_tsh</th>\n",
       "      <th>date_recorded</th>\n",
       "      <th>funder</th>\n",
       "      <th>gps_height</th>\n",
       "      <th>installer</th>\n",
       "      <th>longitude</th>\n",
       "      <th>latitude</th>\n",
       "      <th>wpt_name</th>\n",
       "      <th>num_private</th>\n",
       "      <th>basin</th>\n",
       "      <th>...</th>\n",
       "      <th>payment</th>\n",
       "      <th>payment_type</th>\n",
       "      <th>water_quality</th>\n",
       "      <th>quality_group</th>\n",
       "      <th>quantity</th>\n",
       "      <th>quantity_group</th>\n",
       "      <th>source_type</th>\n",
       "      <th>waterpoint_type</th>\n",
       "      <th>waterpoint_type_group</th>\n",
       "      <th>status_group</th>\n",
       "    </tr>\n",
       "    <tr>\n",
       "      <th>source_class</th>\n",
       "      <th>source</th>\n",
       "      <th></th>\n",
       "      <th></th>\n",
       "      <th></th>\n",
       "      <th></th>\n",
       "      <th></th>\n",
       "      <th></th>\n",
       "      <th></th>\n",
       "      <th></th>\n",
       "      <th></th>\n",
       "      <th></th>\n",
       "      <th></th>\n",
       "      <th></th>\n",
       "      <th></th>\n",
       "      <th></th>\n",
       "      <th></th>\n",
       "      <th></th>\n",
       "      <th></th>\n",
       "      <th></th>\n",
       "      <th></th>\n",
       "      <th></th>\n",
       "      <th></th>\n",
       "    </tr>\n",
       "  </thead>\n",
       "  <tbody>\n",
       "    <tr>\n",
       "      <th rowspan=\"4\" valign=\"top\">groundwater</th>\n",
       "      <th>hand dtw</th>\n",
       "      <td>874</td>\n",
       "      <td>874</td>\n",
       "      <td>868</td>\n",
       "      <td>874</td>\n",
       "      <td>868</td>\n",
       "      <td>874</td>\n",
       "      <td>874</td>\n",
       "      <td>874</td>\n",
       "      <td>874</td>\n",
       "      <td>874</td>\n",
       "      <td>...</td>\n",
       "      <td>874</td>\n",
       "      <td>874</td>\n",
       "      <td>874</td>\n",
       "      <td>874</td>\n",
       "      <td>874</td>\n",
       "      <td>874</td>\n",
       "      <td>874</td>\n",
       "      <td>874</td>\n",
       "      <td>874</td>\n",
       "      <td>874</td>\n",
       "    </tr>\n",
       "    <tr>\n",
       "      <th>machine dbh</th>\n",
       "      <td>11075</td>\n",
       "      <td>11075</td>\n",
       "      <td>10252</td>\n",
       "      <td>11075</td>\n",
       "      <td>10246</td>\n",
       "      <td>11075</td>\n",
       "      <td>11075</td>\n",
       "      <td>11075</td>\n",
       "      <td>11075</td>\n",
       "      <td>11075</td>\n",
       "      <td>...</td>\n",
       "      <td>11075</td>\n",
       "      <td>11075</td>\n",
       "      <td>11075</td>\n",
       "      <td>11075</td>\n",
       "      <td>11075</td>\n",
       "      <td>11075</td>\n",
       "      <td>11075</td>\n",
       "      <td>11075</td>\n",
       "      <td>11075</td>\n",
       "      <td>11075</td>\n",
       "    </tr>\n",
       "    <tr>\n",
       "      <th>shallow well</th>\n",
       "      <td>16824</td>\n",
       "      <td>16824</td>\n",
       "      <td>16302</td>\n",
       "      <td>16824</td>\n",
       "      <td>16286</td>\n",
       "      <td>16824</td>\n",
       "      <td>16824</td>\n",
       "      <td>16824</td>\n",
       "      <td>16824</td>\n",
       "      <td>16824</td>\n",
       "      <td>...</td>\n",
       "      <td>16824</td>\n",
       "      <td>16824</td>\n",
       "      <td>16824</td>\n",
       "      <td>16824</td>\n",
       "      <td>16824</td>\n",
       "      <td>16824</td>\n",
       "      <td>16824</td>\n",
       "      <td>16824</td>\n",
       "      <td>16824</td>\n",
       "      <td>16824</td>\n",
       "    </tr>\n",
       "    <tr>\n",
       "      <th>spring</th>\n",
       "      <td>17021</td>\n",
       "      <td>17021</td>\n",
       "      <td>15870</td>\n",
       "      <td>17021</td>\n",
       "      <td>15870</td>\n",
       "      <td>17021</td>\n",
       "      <td>17021</td>\n",
       "      <td>17021</td>\n",
       "      <td>17021</td>\n",
       "      <td>17021</td>\n",
       "      <td>...</td>\n",
       "      <td>17021</td>\n",
       "      <td>17021</td>\n",
       "      <td>17021</td>\n",
       "      <td>17021</td>\n",
       "      <td>17021</td>\n",
       "      <td>17021</td>\n",
       "      <td>17021</td>\n",
       "      <td>17021</td>\n",
       "      <td>17021</td>\n",
       "      <td>17021</td>\n",
       "    </tr>\n",
       "    <tr>\n",
       "      <th rowspan=\"4\" valign=\"top\">surface</th>\n",
       "      <th>dam</th>\n",
       "      <td>656</td>\n",
       "      <td>656</td>\n",
       "      <td>647</td>\n",
       "      <td>656</td>\n",
       "      <td>646</td>\n",
       "      <td>656</td>\n",
       "      <td>656</td>\n",
       "      <td>656</td>\n",
       "      <td>656</td>\n",
       "      <td>656</td>\n",
       "      <td>...</td>\n",
       "      <td>656</td>\n",
       "      <td>656</td>\n",
       "      <td>656</td>\n",
       "      <td>656</td>\n",
       "      <td>656</td>\n",
       "      <td>656</td>\n",
       "      <td>656</td>\n",
       "      <td>656</td>\n",
       "      <td>656</td>\n",
       "      <td>656</td>\n",
       "    </tr>\n",
       "    <tr>\n",
       "      <th>lake</th>\n",
       "      <td>765</td>\n",
       "      <td>765</td>\n",
       "      <td>763</td>\n",
       "      <td>765</td>\n",
       "      <td>762</td>\n",
       "      <td>765</td>\n",
       "      <td>765</td>\n",
       "      <td>765</td>\n",
       "      <td>765</td>\n",
       "      <td>765</td>\n",
       "      <td>...</td>\n",
       "      <td>765</td>\n",
       "      <td>765</td>\n",
       "      <td>765</td>\n",
       "      <td>765</td>\n",
       "      <td>765</td>\n",
       "      <td>765</td>\n",
       "      <td>765</td>\n",
       "      <td>765</td>\n",
       "      <td>765</td>\n",
       "      <td>765</td>\n",
       "    </tr>\n",
       "    <tr>\n",
       "      <th>rainwater harvesting</th>\n",
       "      <td>2295</td>\n",
       "      <td>2295</td>\n",
       "      <td>2099</td>\n",
       "      <td>2295</td>\n",
       "      <td>2096</td>\n",
       "      <td>2295</td>\n",
       "      <td>2295</td>\n",
       "      <td>2295</td>\n",
       "      <td>2295</td>\n",
       "      <td>2295</td>\n",
       "      <td>...</td>\n",
       "      <td>2295</td>\n",
       "      <td>2295</td>\n",
       "      <td>2295</td>\n",
       "      <td>2295</td>\n",
       "      <td>2295</td>\n",
       "      <td>2295</td>\n",
       "      <td>2295</td>\n",
       "      <td>2295</td>\n",
       "      <td>2295</td>\n",
       "      <td>2295</td>\n",
       "    </tr>\n",
       "    <tr>\n",
       "      <th>river</th>\n",
       "      <td>9612</td>\n",
       "      <td>9612</td>\n",
       "      <td>8715</td>\n",
       "      <td>9612</td>\n",
       "      <td>8721</td>\n",
       "      <td>9612</td>\n",
       "      <td>9612</td>\n",
       "      <td>9612</td>\n",
       "      <td>9612</td>\n",
       "      <td>9612</td>\n",
       "      <td>...</td>\n",
       "      <td>9612</td>\n",
       "      <td>9612</td>\n",
       "      <td>9612</td>\n",
       "      <td>9612</td>\n",
       "      <td>9612</td>\n",
       "      <td>9612</td>\n",
       "      <td>9612</td>\n",
       "      <td>9612</td>\n",
       "      <td>9612</td>\n",
       "      <td>9612</td>\n",
       "    </tr>\n",
       "    <tr>\n",
       "      <th rowspan=\"2\" valign=\"top\">unknown</th>\n",
       "      <th>other</th>\n",
       "      <td>212</td>\n",
       "      <td>212</td>\n",
       "      <td>204</td>\n",
       "      <td>212</td>\n",
       "      <td>204</td>\n",
       "      <td>212</td>\n",
       "      <td>212</td>\n",
       "      <td>212</td>\n",
       "      <td>212</td>\n",
       "      <td>212</td>\n",
       "      <td>...</td>\n",
       "      <td>212</td>\n",
       "      <td>212</td>\n",
       "      <td>212</td>\n",
       "      <td>212</td>\n",
       "      <td>212</td>\n",
       "      <td>212</td>\n",
       "      <td>212</td>\n",
       "      <td>212</td>\n",
       "      <td>212</td>\n",
       "      <td>212</td>\n",
       "    </tr>\n",
       "    <tr>\n",
       "      <th>unknown</th>\n",
       "      <td>66</td>\n",
       "      <td>66</td>\n",
       "      <td>45</td>\n",
       "      <td>66</td>\n",
       "      <td>46</td>\n",
       "      <td>66</td>\n",
       "      <td>66</td>\n",
       "      <td>66</td>\n",
       "      <td>66</td>\n",
       "      <td>66</td>\n",
       "      <td>...</td>\n",
       "      <td>66</td>\n",
       "      <td>66</td>\n",
       "      <td>66</td>\n",
       "      <td>66</td>\n",
       "      <td>66</td>\n",
       "      <td>66</td>\n",
       "      <td>66</td>\n",
       "      <td>66</td>\n",
       "      <td>66</td>\n",
       "      <td>66</td>\n",
       "    </tr>\n",
       "  </tbody>\n",
       "</table>\n",
       "<p>10 rows × 38 columns</p>\n",
       "</div>"
      ],
      "text/plain": [
       "                                   amount_tsh  date_recorded  funder  \\\n",
       "source_class source                                                    \n",
       "groundwater  hand dtw                     874            874     868   \n",
       "             machine dbh                11075          11075   10252   \n",
       "             shallow well               16824          16824   16302   \n",
       "             spring                     17021          17021   15870   \n",
       "surface      dam                          656            656     647   \n",
       "             lake                         765            765     763   \n",
       "             rainwater harvesting        2295           2295    2099   \n",
       "             river                       9612           9612    8715   \n",
       "unknown      other                        212            212     204   \n",
       "             unknown                       66             66      45   \n",
       "\n",
       "                                   gps_height  installer  longitude  latitude  \\\n",
       "source_class source                                                             \n",
       "groundwater  hand dtw                     874        868        874       874   \n",
       "             machine dbh                11075      10246      11075     11075   \n",
       "             shallow well               16824      16286      16824     16824   \n",
       "             spring                     17021      15870      17021     17021   \n",
       "surface      dam                          656        646        656       656   \n",
       "             lake                         765        762        765       765   \n",
       "             rainwater harvesting        2295       2096       2295      2295   \n",
       "             river                       9612       8721       9612      9612   \n",
       "unknown      other                        212        204        212       212   \n",
       "             unknown                       66         46         66        66   \n",
       "\n",
       "                                   wpt_name  num_private  basin  ...  payment  \\\n",
       "source_class source                                              ...            \n",
       "groundwater  hand dtw                   874          874    874  ...      874   \n",
       "             machine dbh              11075        11075  11075  ...    11075   \n",
       "             shallow well             16824        16824  16824  ...    16824   \n",
       "             spring                   17021        17021  17021  ...    17021   \n",
       "surface      dam                        656          656    656  ...      656   \n",
       "             lake                       765          765    765  ...      765   \n",
       "             rainwater harvesting      2295         2295   2295  ...     2295   \n",
       "             river                     9612         9612   9612  ...     9612   \n",
       "unknown      other                      212          212    212  ...      212   \n",
       "             unknown                     66           66     66  ...       66   \n",
       "\n",
       "                                   payment_type  water_quality  quality_group  \\\n",
       "source_class source                                                             \n",
       "groundwater  hand dtw                       874            874            874   \n",
       "             machine dbh                  11075          11075          11075   \n",
       "             shallow well                 16824          16824          16824   \n",
       "             spring                       17021          17021          17021   \n",
       "surface      dam                            656            656            656   \n",
       "             lake                           765            765            765   \n",
       "             rainwater harvesting          2295           2295           2295   \n",
       "             river                         9612           9612           9612   \n",
       "unknown      other                          212            212            212   \n",
       "             unknown                         66             66             66   \n",
       "\n",
       "                                   quantity  quantity_group  source_type  \\\n",
       "source_class source                                                        \n",
       "groundwater  hand dtw                   874             874          874   \n",
       "             machine dbh              11075           11075        11075   \n",
       "             shallow well             16824           16824        16824   \n",
       "             spring                   17021           17021        17021   \n",
       "surface      dam                        656             656          656   \n",
       "             lake                       765             765          765   \n",
       "             rainwater harvesting      2295            2295         2295   \n",
       "             river                     9612            9612         9612   \n",
       "unknown      other                      212             212          212   \n",
       "             unknown                     66              66           66   \n",
       "\n",
       "                                   waterpoint_type  waterpoint_type_group  \\\n",
       "source_class source                                                         \n",
       "groundwater  hand dtw                          874                    874   \n",
       "             machine dbh                     11075                  11075   \n",
       "             shallow well                    16824                  16824   \n",
       "             spring                          17021                  17021   \n",
       "surface      dam                               656                    656   \n",
       "             lake                              765                    765   \n",
       "             rainwater harvesting             2295                   2295   \n",
       "             river                            9612                   9612   \n",
       "unknown      other                             212                    212   \n",
       "             unknown                            66                     66   \n",
       "\n",
       "                                   status_group  \n",
       "source_class source                              \n",
       "groundwater  hand dtw                       874  \n",
       "             machine dbh                  11075  \n",
       "             shallow well                 16824  \n",
       "             spring                       17021  \n",
       "surface      dam                            656  \n",
       "             lake                           765  \n",
       "             rainwater harvesting          2295  \n",
       "             river                         9612  \n",
       "unknown      other                          212  \n",
       "             unknown                         66  \n",
       "\n",
       "[10 rows x 38 columns]"
      ]
     },
     "execution_count": 96,
     "metadata": {},
     "output_type": "execute_result"
    }
   ],
   "source": [
    "data.groupby(['source_class','source']).count()"
   ]
  },
  {
   "cell_type": "code",
   "execution_count": 97,
   "id": "a43ca8b8",
   "metadata": {},
   "outputs": [
    {
     "data": {
      "text/plain": [
       "soft                  50818\n",
       "salty                  4856\n",
       "unknown                1876\n",
       "milky                   804\n",
       "coloured                490\n",
       "salty abandoned         339\n",
       "fluoride                200\n",
       "fluoride abandoned       17\n",
       "Name: water_quality, dtype: int64"
      ]
     },
     "execution_count": 97,
     "metadata": {},
     "output_type": "execute_result"
    }
   ],
   "source": [
    "data['water_quality'].value_counts()"
   ]
  },
  {
   "cell_type": "code",
   "execution_count": 98,
   "id": "cad9921f",
   "metadata": {},
   "outputs": [
    {
     "data": {
      "text/plain": [
       "good        50818\n",
       "salty        5195\n",
       "unknown      1876\n",
       "milky         804\n",
       "colored       490\n",
       "fluoride      217\n",
       "Name: quality_group, dtype: int64"
      ]
     },
     "execution_count": 98,
     "metadata": {},
     "output_type": "execute_result"
    }
   ],
   "source": [
    "data['quality_group'].value_counts()"
   ]
  },
  {
   "cell_type": "code",
   "execution_count": 99,
   "id": "bf077338",
   "metadata": {},
   "outputs": [
    {
     "data": {
      "image/png": "[encoded data removed]",
      "text/plain": [
       "<Figure size 1440x720 with 1 Axes>"
      ]
     },
     "metadata": {
      "needs_background": "light"
     },
     "output_type": "display_data"
    }
   ],
   "source": [
    "plt.figure(figsize=(20,10))\n",
    "ax = sns.countplot(x='water_quality', hue=\"status_group\", data=data) #more unique values, more information"
   ]
  },
  {
   "cell_type": "code",
   "execution_count": 100,
   "id": "7c2c7f3e",
   "metadata": {},
   "outputs": [
    {
     "data": {
      "image/png": "[encoded data removed]",
      "text/plain": [
       "<Figure size 1440x720 with 1 Axes>"
      ]
     },
     "metadata": {
      "needs_background": "light"
     },
     "output_type": "display_data"
    }
   ],
   "source": [
    "plt.figure(figsize=(20,10))\n",
    "ax = sns.countplot(x='quality_group', hue=\"status_group\", data=data)"
   ]
  },
  {
   "cell_type": "code",
   "execution_count": 101,
   "id": "43f8bb1a",
   "metadata": {},
   "outputs": [
    {
     "data": {
      "text/plain": [
       "never pay                25348\n",
       "pay per bucket            8985\n",
       "pay monthly               8300\n",
       "unknown                   8157\n",
       "pay when scheme fails     3914\n",
       "pay annually              3642\n",
       "other                     1054\n",
       "Name: payment, dtype: int64"
      ]
     },
     "execution_count": 101,
     "metadata": {},
     "output_type": "execute_result"
    }
   ],
   "source": [
    "data['payment'].value_counts()"
   ]
  },
  {
   "cell_type": "code",
   "execution_count": 102,
   "id": "a32ba0c5",
   "metadata": {},
   "outputs": [
    {
     "data": {
      "text/plain": [
       "never pay     25348\n",
       "per bucket     8985\n",
       "monthly        8300\n",
       "unknown        8157\n",
       "on failure     3914\n",
       "annually       3642\n",
       "other          1054\n",
       "Name: payment_type, dtype: int64"
      ]
     },
     "execution_count": 102,
     "metadata": {},
     "output_type": "execute_result"
    }
   ],
   "source": [
    "data['payment_type'].value_counts()"
   ]
  },
  {
   "cell_type": "code",
   "execution_count": 103,
   "id": "c216b09f",
   "metadata": {},
   "outputs": [
    {
     "data": {
      "text/plain": [
       "gravity                      26780\n",
       "nira/tanira                   8154\n",
       "other                         6430\n",
       "submersible                   4764\n",
       "swn 80                        3670\n",
       "mono                          2865\n",
       "india mark ii                 2400\n",
       "afridev                       1770\n",
       "ksb                           1415\n",
       "other - rope pump              451\n",
       "other - swn 81                 229\n",
       "windmill                       117\n",
       "india mark iii                  98\n",
       "cemo                            90\n",
       "other - play pump               85\n",
       "walimi                          48\n",
       "climax                          32\n",
       "other - mkulima/shinyanga        2\n",
       "Name: extraction_type, dtype: int64"
      ]
     },
     "execution_count": 103,
     "metadata": {},
     "output_type": "execute_result"
    }
   ],
   "source": [
    "data['extraction_type'].value_counts()"
   ]
  },
  {
   "cell_type": "code",
   "execution_count": 104,
   "id": "0b5dec45",
   "metadata": {},
   "outputs": [
    {
     "data": {
      "text/plain": [
       "gravity            26780\n",
       "nira/tanira         8154\n",
       "other               6430\n",
       "submersible         6179\n",
       "swn 80              3670\n",
       "mono                2865\n",
       "india mark ii       2400\n",
       "afridev             1770\n",
       "rope pump            451\n",
       "other handpump       364\n",
       "other motorpump      122\n",
       "wind-powered         117\n",
       "india mark iii        98\n",
       "Name: extraction_type_group, dtype: int64"
      ]
     },
     "execution_count": 104,
     "metadata": {},
     "output_type": "execute_result"
    }
   ],
   "source": [
    "data['extraction_type_group'].value_counts()"
   ]
  },
  {
   "cell_type": "code",
   "execution_count": 105,
   "id": "bbdf34e2",
   "metadata": {},
   "outputs": [
    {
     "data": {
      "text/plain": [
       "gravity         26780\n",
       "handpump        16456\n",
       "other            6430\n",
       "submersible      6179\n",
       "motorpump        2987\n",
       "rope pump         451\n",
       "wind-powered      117\n",
       "Name: extraction_type_class, dtype: int64"
      ]
     },
     "execution_count": 105,
     "metadata": {},
     "output_type": "execute_result"
    }
   ],
   "source": [
    "data['extraction_type_class'].value_counts()"
   ]
  },
  {
   "cell_type": "code",
   "execution_count": 106,
   "id": "bef7ad33",
   "metadata": {},
   "outputs": [
    {
     "data": {
      "text/html": [
       "<div>\n",
       "<style scoped>\n",
       "    .dataframe tbody tr th:only-of-type {\n",
       "        vertical-align: middle;\n",
       "    }\n",
       "\n",
       "    .dataframe tbody tr th {\n",
       "        vertical-align: top;\n",
       "    }\n",
       "\n",
       "    .dataframe thead th {\n",
       "        text-align: right;\n",
       "    }\n",
       "</style>\n",
       "<table border=\"1\" class=\"dataframe\">\n",
       "  <thead>\n",
       "    <tr style=\"text-align: right;\">\n",
       "      <th></th>\n",
       "      <th></th>\n",
       "      <th>amount_tsh</th>\n",
       "      <th>date_recorded</th>\n",
       "      <th>funder</th>\n",
       "      <th>gps_height</th>\n",
       "      <th>installer</th>\n",
       "      <th>longitude</th>\n",
       "      <th>latitude</th>\n",
       "      <th>wpt_name</th>\n",
       "      <th>num_private</th>\n",
       "      <th>basin</th>\n",
       "      <th>...</th>\n",
       "      <th>water_quality</th>\n",
       "      <th>quality_group</th>\n",
       "      <th>quantity</th>\n",
       "      <th>quantity_group</th>\n",
       "      <th>source</th>\n",
       "      <th>source_type</th>\n",
       "      <th>source_class</th>\n",
       "      <th>waterpoint_type</th>\n",
       "      <th>waterpoint_type_group</th>\n",
       "      <th>status_group</th>\n",
       "    </tr>\n",
       "    <tr>\n",
       "      <th>extraction_type_class</th>\n",
       "      <th>extraction_type_group</th>\n",
       "      <th></th>\n",
       "      <th></th>\n",
       "      <th></th>\n",
       "      <th></th>\n",
       "      <th></th>\n",
       "      <th></th>\n",
       "      <th></th>\n",
       "      <th></th>\n",
       "      <th></th>\n",
       "      <th></th>\n",
       "      <th></th>\n",
       "      <th></th>\n",
       "      <th></th>\n",
       "      <th></th>\n",
       "      <th></th>\n",
       "      <th></th>\n",
       "      <th></th>\n",
       "      <th></th>\n",
       "      <th></th>\n",
       "      <th></th>\n",
       "      <th></th>\n",
       "    </tr>\n",
       "  </thead>\n",
       "  <tbody>\n",
       "    <tr>\n",
       "      <th>gravity</th>\n",
       "      <th>gravity</th>\n",
       "      <td>26780</td>\n",
       "      <td>26780</td>\n",
       "      <td>24704</td>\n",
       "      <td>26780</td>\n",
       "      <td>24714</td>\n",
       "      <td>26780</td>\n",
       "      <td>26780</td>\n",
       "      <td>26780</td>\n",
       "      <td>26780</td>\n",
       "      <td>26780</td>\n",
       "      <td>...</td>\n",
       "      <td>26780</td>\n",
       "      <td>26780</td>\n",
       "      <td>26780</td>\n",
       "      <td>26780</td>\n",
       "      <td>26780</td>\n",
       "      <td>26780</td>\n",
       "      <td>26780</td>\n",
       "      <td>26780</td>\n",
       "      <td>26780</td>\n",
       "      <td>26780</td>\n",
       "    </tr>\n",
       "    <tr>\n",
       "      <th rowspan=\"6\" valign=\"top\">handpump</th>\n",
       "      <th>afridev</th>\n",
       "      <td>1770</td>\n",
       "      <td>1770</td>\n",
       "      <td>1668</td>\n",
       "      <td>1770</td>\n",
       "      <td>1665</td>\n",
       "      <td>1770</td>\n",
       "      <td>1770</td>\n",
       "      <td>1770</td>\n",
       "      <td>1770</td>\n",
       "      <td>1770</td>\n",
       "      <td>...</td>\n",
       "      <td>1770</td>\n",
       "      <td>1770</td>\n",
       "      <td>1770</td>\n",
       "      <td>1770</td>\n",
       "      <td>1770</td>\n",
       "      <td>1770</td>\n",
       "      <td>1770</td>\n",
       "      <td>1770</td>\n",
       "      <td>1770</td>\n",
       "      <td>1770</td>\n",
       "    </tr>\n",
       "    <tr>\n",
       "      <th>india mark ii</th>\n",
       "      <td>2400</td>\n",
       "      <td>2400</td>\n",
       "      <td>2358</td>\n",
       "      <td>2400</td>\n",
       "      <td>2358</td>\n",
       "      <td>2400</td>\n",
       "      <td>2400</td>\n",
       "      <td>2400</td>\n",
       "      <td>2400</td>\n",
       "      <td>2400</td>\n",
       "      <td>...</td>\n",
       "      <td>2400</td>\n",
       "      <td>2400</td>\n",
       "      <td>2400</td>\n",
       "      <td>2400</td>\n",
       "      <td>2400</td>\n",
       "      <td>2400</td>\n",
       "      <td>2400</td>\n",
       "      <td>2400</td>\n",
       "      <td>2400</td>\n",
       "      <td>2400</td>\n",
       "    </tr>\n",
       "    <tr>\n",
       "      <th>india mark iii</th>\n",
       "      <td>98</td>\n",
       "      <td>98</td>\n",
       "      <td>98</td>\n",
       "      <td>98</td>\n",
       "      <td>98</td>\n",
       "      <td>98</td>\n",
       "      <td>98</td>\n",
       "      <td>98</td>\n",
       "      <td>98</td>\n",
       "      <td>98</td>\n",
       "      <td>...</td>\n",
       "      <td>98</td>\n",
       "      <td>98</td>\n",
       "      <td>98</td>\n",
       "      <td>98</td>\n",
       "      <td>98</td>\n",
       "      <td>98</td>\n",
       "      <td>98</td>\n",
       "      <td>98</td>\n",
       "      <td>98</td>\n",
       "      <td>98</td>\n",
       "    </tr>\n",
       "    <tr>\n",
       "      <th>nira/tanira</th>\n",
       "      <td>8154</td>\n",
       "      <td>8154</td>\n",
       "      <td>7899</td>\n",
       "      <td>8154</td>\n",
       "      <td>7885</td>\n",
       "      <td>8154</td>\n",
       "      <td>8154</td>\n",
       "      <td>8154</td>\n",
       "      <td>8154</td>\n",
       "      <td>8154</td>\n",
       "      <td>...</td>\n",
       "      <td>8154</td>\n",
       "      <td>8154</td>\n",
       "      <td>8154</td>\n",
       "      <td>8154</td>\n",
       "      <td>8154</td>\n",
       "      <td>8154</td>\n",
       "      <td>8154</td>\n",
       "      <td>8154</td>\n",
       "      <td>8154</td>\n",
       "      <td>8154</td>\n",
       "    </tr>\n",
       "    <tr>\n",
       "      <th>other handpump</th>\n",
       "      <td>364</td>\n",
       "      <td>364</td>\n",
       "      <td>353</td>\n",
       "      <td>364</td>\n",
       "      <td>354</td>\n",
       "      <td>364</td>\n",
       "      <td>364</td>\n",
       "      <td>364</td>\n",
       "      <td>364</td>\n",
       "      <td>364</td>\n",
       "      <td>...</td>\n",
       "      <td>364</td>\n",
       "      <td>364</td>\n",
       "      <td>364</td>\n",
       "      <td>364</td>\n",
       "      <td>364</td>\n",
       "      <td>364</td>\n",
       "      <td>364</td>\n",
       "      <td>364</td>\n",
       "      <td>364</td>\n",
       "      <td>364</td>\n",
       "    </tr>\n",
       "    <tr>\n",
       "      <th>swn 80</th>\n",
       "      <td>3670</td>\n",
       "      <td>3670</td>\n",
       "      <td>3596</td>\n",
       "      <td>3670</td>\n",
       "      <td>3593</td>\n",
       "      <td>3670</td>\n",
       "      <td>3670</td>\n",
       "      <td>3670</td>\n",
       "      <td>3670</td>\n",
       "      <td>3670</td>\n",
       "      <td>...</td>\n",
       "      <td>3670</td>\n",
       "      <td>3670</td>\n",
       "      <td>3670</td>\n",
       "      <td>3670</td>\n",
       "      <td>3670</td>\n",
       "      <td>3670</td>\n",
       "      <td>3670</td>\n",
       "      <td>3670</td>\n",
       "      <td>3670</td>\n",
       "      <td>3670</td>\n",
       "    </tr>\n",
       "    <tr>\n",
       "      <th rowspan=\"2\" valign=\"top\">motorpump</th>\n",
       "      <th>mono</th>\n",
       "      <td>2865</td>\n",
       "      <td>2865</td>\n",
       "      <td>2577</td>\n",
       "      <td>2865</td>\n",
       "      <td>2578</td>\n",
       "      <td>2865</td>\n",
       "      <td>2865</td>\n",
       "      <td>2865</td>\n",
       "      <td>2865</td>\n",
       "      <td>2865</td>\n",
       "      <td>...</td>\n",
       "      <td>2865</td>\n",
       "      <td>2865</td>\n",
       "      <td>2865</td>\n",
       "      <td>2865</td>\n",
       "      <td>2865</td>\n",
       "      <td>2865</td>\n",
       "      <td>2865</td>\n",
       "      <td>2865</td>\n",
       "      <td>2865</td>\n",
       "      <td>2865</td>\n",
       "    </tr>\n",
       "    <tr>\n",
       "      <th>other motorpump</th>\n",
       "      <td>122</td>\n",
       "      <td>122</td>\n",
       "      <td>122</td>\n",
       "      <td>122</td>\n",
       "      <td>122</td>\n",
       "      <td>122</td>\n",
       "      <td>122</td>\n",
       "      <td>122</td>\n",
       "      <td>122</td>\n",
       "      <td>122</td>\n",
       "      <td>...</td>\n",
       "      <td>122</td>\n",
       "      <td>122</td>\n",
       "      <td>122</td>\n",
       "      <td>122</td>\n",
       "      <td>122</td>\n",
       "      <td>122</td>\n",
       "      <td>122</td>\n",
       "      <td>122</td>\n",
       "      <td>122</td>\n",
       "      <td>122</td>\n",
       "    </tr>\n",
       "    <tr>\n",
       "      <th>other</th>\n",
       "      <th>other</th>\n",
       "      <td>6430</td>\n",
       "      <td>6430</td>\n",
       "      <td>6010</td>\n",
       "      <td>6430</td>\n",
       "      <td>6002</td>\n",
       "      <td>6430</td>\n",
       "      <td>6430</td>\n",
       "      <td>6430</td>\n",
       "      <td>6430</td>\n",
       "      <td>6430</td>\n",
       "      <td>...</td>\n",
       "      <td>6430</td>\n",
       "      <td>6430</td>\n",
       "      <td>6430</td>\n",
       "      <td>6430</td>\n",
       "      <td>6430</td>\n",
       "      <td>6430</td>\n",
       "      <td>6430</td>\n",
       "      <td>6430</td>\n",
       "      <td>6430</td>\n",
       "      <td>6430</td>\n",
       "    </tr>\n",
       "    <tr>\n",
       "      <th>rope pump</th>\n",
       "      <th>rope pump</th>\n",
       "      <td>451</td>\n",
       "      <td>451</td>\n",
       "      <td>448</td>\n",
       "      <td>451</td>\n",
       "      <td>448</td>\n",
       "      <td>451</td>\n",
       "      <td>451</td>\n",
       "      <td>451</td>\n",
       "      <td>451</td>\n",
       "      <td>451</td>\n",
       "      <td>...</td>\n",
       "      <td>451</td>\n",
       "      <td>451</td>\n",
       "      <td>451</td>\n",
       "      <td>451</td>\n",
       "      <td>451</td>\n",
       "      <td>451</td>\n",
       "      <td>451</td>\n",
       "      <td>451</td>\n",
       "      <td>451</td>\n",
       "      <td>451</td>\n",
       "    </tr>\n",
       "    <tr>\n",
       "      <th>submersible</th>\n",
       "      <th>submersible</th>\n",
       "      <td>6179</td>\n",
       "      <td>6179</td>\n",
       "      <td>5820</td>\n",
       "      <td>6179</td>\n",
       "      <td>5816</td>\n",
       "      <td>6179</td>\n",
       "      <td>6179</td>\n",
       "      <td>6179</td>\n",
       "      <td>6179</td>\n",
       "      <td>6179</td>\n",
       "      <td>...</td>\n",
       "      <td>6179</td>\n",
       "      <td>6179</td>\n",
       "      <td>6179</td>\n",
       "      <td>6179</td>\n",
       "      <td>6179</td>\n",
       "      <td>6179</td>\n",
       "      <td>6179</td>\n",
       "      <td>6179</td>\n",
       "      <td>6179</td>\n",
       "      <td>6179</td>\n",
       "    </tr>\n",
       "    <tr>\n",
       "      <th>wind-powered</th>\n",
       "      <th>wind-powered</th>\n",
       "      <td>117</td>\n",
       "      <td>117</td>\n",
       "      <td>112</td>\n",
       "      <td>117</td>\n",
       "      <td>112</td>\n",
       "      <td>117</td>\n",
       "      <td>117</td>\n",
       "      <td>117</td>\n",
       "      <td>117</td>\n",
       "      <td>117</td>\n",
       "      <td>...</td>\n",
       "      <td>117</td>\n",
       "      <td>117</td>\n",
       "      <td>117</td>\n",
       "      <td>117</td>\n",
       "      <td>117</td>\n",
       "      <td>117</td>\n",
       "      <td>117</td>\n",
       "      <td>117</td>\n",
       "      <td>117</td>\n",
       "      <td>117</td>\n",
       "    </tr>\n",
       "  </tbody>\n",
       "</table>\n",
       "<p>13 rows × 38 columns</p>\n",
       "</div>"
      ],
      "text/plain": [
       "                                             amount_tsh  date_recorded  \\\n",
       "extraction_type_class extraction_type_group                              \n",
       "gravity               gravity                     26780          26780   \n",
       "handpump              afridev                      1770           1770   \n",
       "                      india mark ii                2400           2400   \n",
       "                      india mark iii                 98             98   \n",
       "                      nira/tanira                  8154           8154   \n",
       "                      other handpump                364            364   \n",
       "                      swn 80                       3670           3670   \n",
       "motorpump             mono                         2865           2865   \n",
       "                      other motorpump               122            122   \n",
       "other                 other                        6430           6430   \n",
       "rope pump             rope pump                     451            451   \n",
       "submersible           submersible                  6179           6179   \n",
       "wind-powered          wind-powered                  117            117   \n",
       "\n",
       "                                             funder  gps_height  installer  \\\n",
       "extraction_type_class extraction_type_group                                  \n",
       "gravity               gravity                 24704       26780      24714   \n",
       "handpump              afridev                  1668        1770       1665   \n",
       "                      india mark ii            2358        2400       2358   \n",
       "                      india mark iii             98          98         98   \n",
       "                      nira/tanira              7899        8154       7885   \n",
       "                      other handpump            353         364        354   \n",
       "                      swn 80                   3596        3670       3593   \n",
       "motorpump             mono                     2577        2865       2578   \n",
       "                      other motorpump           122         122        122   \n",
       "other                 other                    6010        6430       6002   \n",
       "rope pump             rope pump                 448         451        448   \n",
       "submersible           submersible              5820        6179       5816   \n",
       "wind-powered          wind-powered              112         117        112   \n",
       "\n",
       "                                             longitude  latitude  wpt_name  \\\n",
       "extraction_type_class extraction_type_group                                  \n",
       "gravity               gravity                    26780     26780     26780   \n",
       "handpump              afridev                     1770      1770      1770   \n",
       "                      india mark ii               2400      2400      2400   \n",
       "                      india mark iii                98        98        98   \n",
       "                      nira/tanira                 8154      8154      8154   \n",
       "                      other handpump               364       364       364   \n",
       "                      swn 80                      3670      3670      3670   \n",
       "motorpump             mono                        2865      2865      2865   \n",
       "                      other motorpump              122       122       122   \n",
       "other                 other                       6430      6430      6430   \n",
       "rope pump             rope pump                    451       451       451   \n",
       "submersible           submersible                 6179      6179      6179   \n",
       "wind-powered          wind-powered                 117       117       117   \n",
       "\n",
       "                                             num_private  basin  ...  \\\n",
       "extraction_type_class extraction_type_group                      ...   \n",
       "gravity               gravity                      26780  26780  ...   \n",
       "handpump              afridev                       1770   1770  ...   \n",
       "                      india mark ii                 2400   2400  ...   \n",
       "                      india mark iii                  98     98  ...   \n",
       "                      nira/tanira                   8154   8154  ...   \n",
       "                      other handpump                 364    364  ...   \n",
       "                      swn 80                        3670   3670  ...   \n",
       "motorpump             mono                          2865   2865  ...   \n",
       "                      other motorpump                122    122  ...   \n",
       "other                 other                         6430   6430  ...   \n",
       "rope pump             rope pump                      451    451  ...   \n",
       "submersible           submersible                   6179   6179  ...   \n",
       "wind-powered          wind-powered                   117    117  ...   \n",
       "\n",
       "                                             water_quality  quality_group  \\\n",
       "extraction_type_class extraction_type_group                                 \n",
       "gravity               gravity                        26780          26780   \n",
       "handpump              afridev                         1770           1770   \n",
       "                      india mark ii                   2400           2400   \n",
       "                      india mark iii                    98             98   \n",
       "                      nira/tanira                     8154           8154   \n",
       "                      other handpump                   364            364   \n",
       "                      swn 80                          3670           3670   \n",
       "motorpump             mono                            2865           2865   \n",
       "                      other motorpump                  122            122   \n",
       "other                 other                           6430           6430   \n",
       "rope pump             rope pump                        451            451   \n",
       "submersible           submersible                     6179           6179   \n",
       "wind-powered          wind-powered                     117            117   \n",
       "\n",
       "                                             quantity  quantity_group  source  \\\n",
       "extraction_type_class extraction_type_group                                     \n",
       "gravity               gravity                   26780           26780   26780   \n",
       "handpump              afridev                    1770            1770    1770   \n",
       "                      india mark ii              2400            2400    2400   \n",
       "                      india mark iii               98              98      98   \n",
       "                      nira/tanira                8154            8154    8154   \n",
       "                      other handpump              364             364     364   \n",
       "                      swn 80                     3670            3670    3670   \n",
       "motorpump             mono                       2865            2865    2865   \n",
       "                      other motorpump             122             122     122   \n",
       "other                 other                      6430            6430    6430   \n",
       "rope pump             rope pump                   451             451     451   \n",
       "submersible           submersible                6179            6179    6179   \n",
       "wind-powered          wind-powered                117             117     117   \n",
       "\n",
       "                                             source_type  source_class  \\\n",
       "extraction_type_class extraction_type_group                              \n",
       "gravity               gravity                      26780         26780   \n",
       "handpump              afridev                       1770          1770   \n",
       "                      india mark ii                 2400          2400   \n",
       "                      india mark iii                  98            98   \n",
       "                      nira/tanira                   8154          8154   \n",
       "                      other handpump                 364           364   \n",
       "                      swn 80                        3670          3670   \n",
       "motorpump             mono                          2865          2865   \n",
       "                      other motorpump                122           122   \n",
       "other                 other                         6430          6430   \n",
       "rope pump             rope pump                      451           451   \n",
       "submersible           submersible                   6179          6179   \n",
       "wind-powered          wind-powered                   117           117   \n",
       "\n",
       "                                             waterpoint_type  \\\n",
       "extraction_type_class extraction_type_group                    \n",
       "gravity               gravity                          26780   \n",
       "handpump              afridev                           1770   \n",
       "                      india mark ii                     2400   \n",
       "                      india mark iii                      98   \n",
       "                      nira/tanira                       8154   \n",
       "                      other handpump                     364   \n",
       "                      swn 80                            3670   \n",
       "motorpump             mono                              2865   \n",
       "                      other motorpump                    122   \n",
       "other                 other                             6430   \n",
       "rope pump             rope pump                          451   \n",
       "submersible           submersible                       6179   \n",
       "wind-powered          wind-powered                       117   \n",
       "\n",
       "                                             waterpoint_type_group  \\\n",
       "extraction_type_class extraction_type_group                          \n",
       "gravity               gravity                                26780   \n",
       "handpump              afridev                                 1770   \n",
       "                      india mark ii                           2400   \n",
       "                      india mark iii                            98   \n",
       "                      nira/tanira                             8154   \n",
       "                      other handpump                           364   \n",
       "                      swn 80                                  3670   \n",
       "motorpump             mono                                    2865   \n",
       "                      other motorpump                          122   \n",
       "other                 other                                   6430   \n",
       "rope pump             rope pump                                451   \n",
       "submersible           submersible                             6179   \n",
       "wind-powered          wind-powered                             117   \n",
       "\n",
       "                                             status_group  \n",
       "extraction_type_class extraction_type_group                \n",
       "gravity               gravity                       26780  \n",
       "handpump              afridev                        1770  \n",
       "                      india mark ii                  2400  \n",
       "                      india mark iii                   98  \n",
       "                      nira/tanira                    8154  \n",
       "                      other handpump                  364  \n",
       "                      swn 80                         3670  \n",
       "motorpump             mono                           2865  \n",
       "                      other motorpump                 122  \n",
       "other                 other                          6430  \n",
       "rope pump             rope pump                       451  \n",
       "submersible           submersible                    6179  \n",
       "wind-powered          wind-powered                    117  \n",
       "\n",
       "[13 rows x 38 columns]"
      ]
     },
     "execution_count": 106,
     "metadata": {},
     "output_type": "execute_result"
    }
   ],
   "source": [
    "data.groupby(['extraction_type_class','extraction_type_group']).count()"
   ]
  },
  {
   "cell_type": "markdown",
   "id": "b0e10a8e",
   "metadata": {},
   "source": [
    "extraction_type_group is selected because it has optimal number of unique values where extraction_type has many unique values."
   ]
  },
  {
   "cell_type": "code",
   "execution_count": 107,
   "id": "a6a99f33",
   "metadata": {},
   "outputs": [
    {
     "data": {
      "text/plain": [
       "communal standpipe             28522\n",
       "hand pump                      17488\n",
       "other                           6380\n",
       "communal standpipe multiple     6103\n",
       "improved spring                  784\n",
       "cattle trough                    116\n",
       "dam                                7\n",
       "Name: waterpoint_type, dtype: int64"
      ]
     },
     "execution_count": 107,
     "metadata": {},
     "output_type": "execute_result"
    }
   ],
   "source": [
    "data['waterpoint_type'].value_counts() #has more unique values"
   ]
  },
  {
   "cell_type": "code",
   "execution_count": 108,
   "id": "d9287a80",
   "metadata": {},
   "outputs": [
    {
     "data": {
      "text/plain": [
       "communal standpipe    34625\n",
       "hand pump             17488\n",
       "other                  6380\n",
       "improved spring         784\n",
       "cattle trough           116\n",
       "dam                       7\n",
       "Name: waterpoint_type_group, dtype: int64"
      ]
     },
     "execution_count": 108,
     "metadata": {},
     "output_type": "execute_result"
    }
   ],
   "source": [
    "data['waterpoint_type_group'].value_counts()"
   ]
  },
  {
   "cell_type": "code",
   "execution_count": 109,
   "id": "4d0a8eea",
   "metadata": {},
   "outputs": [
    {
     "data": {
      "text/plain": [
       "Iringa           5294\n",
       "Shinyanga        4982\n",
       "Mbeya            4639\n",
       "Kilimanjaro      4379\n",
       "Morogoro         4006\n",
       "Arusha           3350\n",
       "Kagera           3316\n",
       "Mwanza           3102\n",
       "Kigoma           2816\n",
       "Ruvuma           2640\n",
       "Pwani            2635\n",
       "Tanga            2547\n",
       "Dodoma           2201\n",
       "Singida          2093\n",
       "Mara             1969\n",
       "Tabora           1959\n",
       "Rukwa            1808\n",
       "Mtwara           1730\n",
       "Manyara          1583\n",
       "Lindi            1546\n",
       "Dar es Salaam     805\n",
       "Name: region, dtype: int64"
      ]
     },
     "execution_count": 109,
     "metadata": {},
     "output_type": "execute_result"
    }
   ],
   "source": [
    "data['region'].value_counts() #optimal cardinality"
   ]
  },
  {
   "cell_type": "code",
   "execution_count": 110,
   "id": "255afd75",
   "metadata": {},
   "outputs": [
    {
     "data": {
      "text/plain": [
       "11    5300\n",
       "17    5011\n",
       "12    4639\n",
       "3     4379\n",
       "5     4040\n",
       "18    3324\n",
       "19    3047\n",
       "2     3024\n",
       "16    2816\n",
       "10    2640\n",
       "4     2513\n",
       "1     2201\n",
       "13    2093\n",
       "14    1979\n",
       "20    1969\n",
       "15    1808\n",
       "6     1609\n",
       "21    1583\n",
       "80    1238\n",
       "60    1025\n",
       "90     917\n",
       "7      805\n",
       "99     423\n",
       "9      390\n",
       "24     326\n",
       "8      300\n",
       "40       1\n",
       "Name: region_code, dtype: int64"
      ]
     },
     "execution_count": 110,
     "metadata": {},
     "output_type": "execute_result"
    }
   ],
   "source": [
    "data['region_code'].value_counts()"
   ]
  },
  {
   "cell_type": "code",
   "execution_count": 111,
   "id": "eef6731f",
   "metadata": {},
   "outputs": [
    {
     "data": {
      "text/plain": [
       "Madukani        508\n",
       "Shuleni         506\n",
       "Majengo         502\n",
       "Kati            373\n",
       "Mtakuja         262\n",
       "               ... \n",
       "Kipompo           1\n",
       "Chanyamilima      1\n",
       "Ikalime           1\n",
       "Kemagaka          1\n",
       "Kikatanyemba      1\n",
       "Name: subvillage, Length: 19287, dtype: int64"
      ]
     },
     "execution_count": 111,
     "metadata": {},
     "output_type": "execute_result"
    }
   ],
   "source": [
    "data['subvillage'].value_counts() #high cardinality"
   ]
  },
  {
   "cell_type": "markdown",
   "id": "b7eab93d",
   "metadata": {},
   "source": [
    "Dropping similar columns"
   ]
  },
  {
   "cell_type": "code",
   "execution_count": 112,
   "id": "f7a12b83",
   "metadata": {},
   "outputs": [],
   "source": [
    "similar_col=['management_group',\n",
    "             'scheme_management',\n",
    "             'quantity_group',\n",
    "             'source_class',\n",
    "             'source_type',\n",
    "             'quality_group',\n",
    "             'payment_type',\n",
    "             'extraction_type_class',\n",
    "             'extraction_type', \n",
    "             'waterpoint_type_group',\n",
    "             'region_code',\n",
    "             'subvillage']\n",
    "data.drop(similar_col, axis=1, inplace=True)\n",
    "test.drop(similar_col, axis=1, inplace=True)"
   ]
  },
  {
   "cell_type": "code",
   "execution_count": 113,
   "id": "db57000d",
   "metadata": {},
   "outputs": [
    {
     "data": {
      "text/plain": [
       "0       20709\n",
       "2010     2645\n",
       "2008     2613\n",
       "2009     2533\n",
       "2000     2091\n",
       "2007     1587\n",
       "2006     1471\n",
       "2003     1286\n",
       "2011     1256\n",
       "2004     1123\n",
       "2012     1084\n",
       "2002     1075\n",
       "1978     1037\n",
       "1995     1014\n",
       "2005     1011\n",
       "1999      979\n",
       "1998      966\n",
       "1990      954\n",
       "1985      945\n",
       "1980      811\n",
       "1996      811\n",
       "1984      779\n",
       "1982      744\n",
       "1994      738\n",
       "1972      708\n",
       "1974      676\n",
       "1997      644\n",
       "1992      640\n",
       "1993      608\n",
       "2001      540\n",
       "1988      521\n",
       "1983      488\n",
       "1975      437\n",
       "1986      434\n",
       "1976      414\n",
       "1970      411\n",
       "1991      324\n",
       "1989      316\n",
       "1987      302\n",
       "1981      238\n",
       "1977      202\n",
       "1979      192\n",
       "1973      184\n",
       "2013      176\n",
       "1971      145\n",
       "1960      102\n",
       "1967       88\n",
       "1963       85\n",
       "1968       77\n",
       "1969       59\n",
       "1964       40\n",
       "1962       30\n",
       "1961       21\n",
       "1965       19\n",
       "1966       17\n",
       "Name: construction_year, dtype: int64"
      ]
     },
     "execution_count": 113,
     "metadata": {},
     "output_type": "execute_result"
    }
   ],
   "source": [
    "data['construction_year'].value_counts()"
   ]
  },
  {
   "cell_type": "code",
   "execution_count": 114,
   "id": "78e6fbc9",
   "metadata": {},
   "outputs": [
    {
     "data": {
      "text/plain": [
       "107271"
      ]
     },
     "execution_count": 114,
     "metadata": {},
     "output_type": "execute_result"
    }
   ],
   "source": [
    "data['construction_year'].unique().sum()"
   ]
  },
  {
   "cell_type": "markdown",
   "id": "b430d538",
   "metadata": {},
   "source": [
    "construction_year has 107271 unique values. For reducing the cardinality years can be replaced with decades."
   ]
  },
  {
   "cell_type": "code",
   "execution_count": 115,
   "id": "2897fbb2",
   "metadata": {},
   "outputs": [],
   "source": [
    "data['decade'] = train['construction_year']\n",
    "test['decade'] = test['construction_year']\n",
    "for i in range(1960,2011,10):\n",
    "    data['decade'].replace(\n",
    "        to_replace = tuple(a for a in range(i,i+10)),\n",
    "        value = str(i), \n",
    "        inplace=True)\n",
    "    test['decade'].replace(\n",
    "        to_replace = tuple(a for a in range(i,i+10)),\n",
    "        value = str(i), \n",
    "        inplace=True)"
   ]
  },
  {
   "cell_type": "code",
   "execution_count": 116,
   "id": "66e650d8",
   "metadata": {},
   "outputs": [
    {
     "data": {
      "text/plain": [
       "0       20709\n",
       "2000    15330\n",
       "1990     7678\n",
       "1980     5578\n",
       "2010     5161\n",
       "1970     4406\n",
       "1960      538\n",
       "Name: decade, dtype: int64"
      ]
     },
     "execution_count": 116,
     "metadata": {},
     "output_type": "execute_result"
    }
   ],
   "source": [
    "data['decade'].value_counts()"
   ]
  },
  {
   "cell_type": "code",
   "execution_count": 117,
   "id": "53dd2579",
   "metadata": {},
   "outputs": [],
   "source": [
    "data.drop(\"construction_year\", axis=1, inplace=True)\n",
    "test.drop(\"construction_year\", axis=1, inplace=True)"
   ]
  },
  {
   "cell_type": "code",
   "execution_count": 118,
   "id": "3a538a79",
   "metadata": {},
   "outputs": [
    {
     "data": {
      "image/png": "[encoded data removed]",
      "text/plain": [
       "<Figure size 1440x720 with 1 Axes>"
      ]
     },
     "metadata": {
      "needs_background": "light"
     },
     "output_type": "display_data"
    }
   ],
   "source": [
    "plt.figure(figsize=(20,10))\n",
    "ax = sns.countplot(x='decade', hue=\"status_group\", data=data)"
   ]
  },
  {
   "cell_type": "code",
   "execution_count": 119,
   "id": "33565230",
   "metadata": {},
   "outputs": [
    {
     "data": {
      "text/plain": [
       "GeoData Consultants Ltd    59400\n",
       "Name: recorded_by, dtype: int64"
      ]
     },
     "execution_count": 119,
     "metadata": {},
     "output_type": "execute_result"
    }
   ],
   "source": [
    "data[\"recorded_by\"].value_counts() #can be removed same value"
   ]
  },
  {
   "cell_type": "code",
   "execution_count": 120,
   "id": "d6da0e0b",
   "metadata": {},
   "outputs": [],
   "source": [
    "data.drop(columns=['recorded_by'],inplace=True ) \n",
    "test.drop(columns=['recorded_by'],inplace=True ) "
   ]
  },
  {
   "cell_type": "markdown",
   "id": "01a7daee",
   "metadata": {},
   "source": [
    "Fixing missing Values and 0 values"
   ]
  },
  {
   "cell_type": "code",
   "execution_count": 121,
   "id": "4b571b86",
   "metadata": {},
   "outputs": [
    {
     "data": {
      "text/plain": [
       "amount_tsh                0.000000\n",
       "date_recorded             0.000000\n",
       "funder                    6.119529\n",
       "gps_height                0.000000\n",
       "installer                 6.153199\n",
       "longitude                 0.000000\n",
       "latitude                  0.000000\n",
       "wpt_name                  0.000000\n",
       "num_private               0.000000\n",
       "basin                     0.000000\n",
       "region                    0.000000\n",
       "district_code             0.000000\n",
       "lga                       0.000000\n",
       "ward                      0.000000\n",
       "population                0.000000\n",
       "public_meeting            5.612795\n",
       "scheme_name              47.417508\n",
       "permit                    5.144781\n",
       "extraction_type_group     0.000000\n",
       "management                0.000000\n",
       "payment                   0.000000\n",
       "water_quality             0.000000\n",
       "quantity                  0.000000\n",
       "source                    0.000000\n",
       "waterpoint_type           0.000000\n",
       "status_group              0.000000\n",
       "decade                    0.000000\n",
       "dtype: float64"
      ]
     },
     "execution_count": 121,
     "metadata": {},
     "output_type": "execute_result"
    }
   ],
   "source": [
    "data.isnull().sum()*100/train.shape[0]"
   ]
  },
  {
   "cell_type": "code",
   "execution_count": 122,
   "id": "a54b0b67",
   "metadata": {},
   "outputs": [
    {
     "data": {
      "text/plain": [
       "amount_tsh               17761\n",
       "date_recorded            59400\n",
       "funder                   59400\n",
       "gps_height               38962\n",
       "installer                59400\n",
       "longitude                57588\n",
       "latitude                 59400\n",
       "wpt_name                 59400\n",
       "num_private                757\n",
       "basin                    59400\n",
       "region                   59400\n",
       "district_code            59377\n",
       "lga                      59400\n",
       "ward                     59400\n",
       "population               38019\n",
       "public_meeting           54345\n",
       "scheme_name              59400\n",
       "permit                   41908\n",
       "extraction_type_group    59400\n",
       "management               59400\n",
       "payment                  59400\n",
       "water_quality            59400\n",
       "quantity                 59400\n",
       "source                   59400\n",
       "waterpoint_type          59400\n",
       "status_group             59400\n",
       "decade                   38691\n",
       "dtype: int64"
      ]
     },
     "execution_count": 122,
     "metadata": {},
     "output_type": "execute_result"
    }
   ],
   "source": [
    "data.astype(bool).sum(axis=0)"
   ]
  },
  {
   "cell_type": "code",
   "execution_count": 123,
   "id": "98452b80",
   "metadata": {},
   "outputs": [],
   "source": [
    "data.drop(columns=['num_private'],inplace=True )\n",
    "test.drop(columns=['num_private'],inplace=True )"
   ]
  },
  {
   "cell_type": "code",
   "execution_count": 124,
   "id": "aad5ee81",
   "metadata": {},
   "outputs": [],
   "source": [
    "data.drop(columns=['scheme_name'],inplace=True )\n",
    "test.drop(columns=['scheme_name'],inplace=True )"
   ]
  },
  {
   "cell_type": "code",
   "execution_count": 125,
   "id": "82566755",
   "metadata": {},
   "outputs": [],
   "source": [
    "data['installer'].fillna(value='None',inplace=True)\n",
    "test['installer'].fillna(value='None',inplace=True)\n",
    "data['funder'].fillna(value='None',inplace=True)\n",
    "test['funder'].fillna(value='None',inplace=True)\n",
    "data['public_meeting'].fillna(value=True, inplace=True)\n",
    "test['public_meeting'].fillna(value=True,inplace=True)\n",
    "data['permit'].fillna(value=True, inplace=True)\n",
    "test['permit'].fillna(value=True, inplace=True)\n",
    "\n",
    "data['installer'].replace(to_replace = '0', value ='None' , inplace=True)\n",
    "test['installer'].replace(to_replace = '0', value ='None' , inplace=True)\n",
    "data['funder'].replace(to_replace = '0', value ='None' , inplace=True)\n",
    "test['funder'].replace(to_replace = '0', value ='None' , inplace=True)\n",
    "\n",
    "data['population'].replace(to_replace = 0 , value =data[data[\"population\"]!=0][\"population\"].mean(), inplace=True) \n",
    "test['population'].replace(to_replace = 0 , value =test[test[\"population\"]!=0][\"population\"].mean(), inplace=True)"
   ]
  },
  {
   "cell_type": "code",
   "execution_count": 126,
   "id": "25f5ad56",
   "metadata": {},
   "outputs": [
    {
     "ename": "NameError",
     "evalue": "name 'geopandas' is not defined",
     "output_type": "error",
     "traceback": [
      "\u001b[0;31m---------------------------------------------------------------------------\u001b[0m",
      "\u001b[0;31mNameError\u001b[0m                                 Traceback (most recent call last)",
      "\u001b[0;32m/tmp/ipykernel_1776/1726218313.py\u001b[0m in \u001b[0;36m<module>\u001b[0;34m\u001b[0m\n\u001b[0;32m----> 1\u001b[0;31m gdf = geopandas.GeoDataFrame(data.copy(),\n\u001b[0m\u001b[1;32m      2\u001b[0m                             geometry=geopandas.points_from_xy(data.longitude, data.latitude))\n\u001b[1;32m      3\u001b[0m \u001b[0mworld\u001b[0m \u001b[0;34m=\u001b[0m \u001b[0mgeopandas\u001b[0m\u001b[0;34m.\u001b[0m\u001b[0mread_file\u001b[0m\u001b[0;34m(\u001b[0m\u001b[0mgeopandas\u001b[0m\u001b[0;34m.\u001b[0m\u001b[0mdatasets\u001b[0m\u001b[0;34m.\u001b[0m\u001b[0mget_path\u001b[0m\u001b[0;34m(\u001b[0m\u001b[0;34m'naturalearth_lowres'\u001b[0m\u001b[0;34m)\u001b[0m\u001b[0;34m)\u001b[0m\u001b[0;34m\u001b[0m\u001b[0;34m\u001b[0m\u001b[0m\n\u001b[1;32m      4\u001b[0m \u001b[0max\u001b[0m \u001b[0;34m=\u001b[0m \u001b[0mworld\u001b[0m\u001b[0;34m[\u001b[0m\u001b[0mworld\u001b[0m\u001b[0;34m.\u001b[0m\u001b[0mcontinent\u001b[0m \u001b[0;34m==\u001b[0m \u001b[0;34m'Africa'\u001b[0m\u001b[0;34m]\u001b[0m\u001b[0;34m.\u001b[0m\u001b[0mplot\u001b[0m\u001b[0;34m(\u001b[0m\u001b[0mcolor\u001b[0m\u001b[0;34m=\u001b[0m\u001b[0;34m'white'\u001b[0m\u001b[0;34m,\u001b[0m \u001b[0medgecolor\u001b[0m\u001b[0;34m=\u001b[0m\u001b[0;34m'black'\u001b[0m\u001b[0;34m)\u001b[0m\u001b[0;34m\u001b[0m\u001b[0;34m\u001b[0m\u001b[0m\n\u001b[1;32m      5\u001b[0m \u001b[0;34m\u001b[0m\u001b[0m\n",
      "\u001b[0;31mNameError\u001b[0m: name 'geopandas' is not defined"
     ]
    }
   ],
   "source": [
    "gdf = geopandas.GeoDataFrame(data.copy(),\n",
    "                            geometry=geopandas.points_from_xy(data.longitude, data.latitude))\n",
    "world = geopandas.read_file(geopandas.datasets.get_path('naturalearth_lowres'))\n",
    "ax = world[world.continent == 'Africa'].plot(color='white', edgecolor='black')\n",
    "\n",
    "gdf.plot(ax=ax, color='red',  figsize=(64, 64))\n",
    "\n",
    "plt.show()"
   ]
  },
  {
   "cell_type": "code",
   "execution_count": 127,
   "id": "5b521a4b",
   "metadata": {},
   "outputs": [],
   "source": [
    "m_lng=data[data[\"longitude\"]!=0][\"longitude\"].mean()\n",
    "m_lat=data[data[\"latitude\"]!=0][\"latitude\"].mean()"
   ]
  },
  {
   "cell_type": "code",
   "execution_count": 128,
   "id": "5528e653",
   "metadata": {},
   "outputs": [],
   "source": [
    "data['longitude'].replace(to_replace = 0 , value =m_lng, inplace=True)\n",
    "test['longitude'].replace(to_replace = 0 , value =m_lng, inplace=True)\n",
    "\n",
    "data['latitude'].replace(to_replace = 0 , value =m_lat, inplace=True)\n",
    "test['latitude'].replace(to_replace = 0 , value =m_lat, inplace=True)"
   ]
  },
  {
   "cell_type": "markdown",
   "id": "2a6bfbd1",
   "metadata": {},
   "source": [
    "Replacing high cardinality columns"
   ]
  },
  {
   "cell_type": "code",
   "execution_count": 129,
   "id": "708149b7",
   "metadata": {},
   "outputs": [
    {
     "data": {
      "text/plain": [
       "DWE                   17402\n",
       "None                   4432\n",
       "Government             1825\n",
       "RWE                    1206\n",
       "Commu                  1060\n",
       "DANIDA                 1050\n",
       "KKKT                    898\n",
       "Hesawa                  840\n",
       "TCRS                    707\n",
       "Central government      622\n",
       "Name: installer, dtype: int64"
      ]
     },
     "execution_count": 129,
     "metadata": {},
     "output_type": "execute_result"
    }
   ],
   "source": [
    "data[\"installer\"].value_counts().head(10)"
   ]
  },
  {
   "cell_type": "code",
   "execution_count": 130,
   "id": "ad66c5fe",
   "metadata": {},
   "outputs": [],
   "source": [
    "data['installer_c'] = data['installer'] \n",
    "test['installer_c'] = test['installer'] "
   ]
  },
  {
   "cell_type": "code",
   "execution_count": 131,
   "id": "55140666",
   "metadata": {},
   "outputs": [],
   "source": [
    "installer_cats = ['DWE',\n",
    "                 'None',\n",
    "                 'Government',\n",
    "                 'RWE',\n",
    "                 'Commu',\n",
    "                 'DANIDA',\n",
    "                 'KKKT',\n",
    "                 'Hesawa',\n",
    "                 'TCRS',\n",
    "                 'Central government',\n",
    "                 'CES',\n",
    "                 'Community']\n",
    "data.loc[~data[\"installer_c\"].isin(installer_cats), \"installer_c\"] = \"installer1\"\n",
    "test.loc[~test[\"installer_c\"].isin(installer_cats), \"installer_c\"] = \"installer1\""
   ]
  },
  {
   "cell_type": "code",
   "execution_count": 132,
   "id": "5cf9ad7d",
   "metadata": {},
   "outputs": [
    {
     "data": {
      "text/plain": [
       "Government Of Tanzania    9084\n",
       "None                      4414\n",
       "Danida                    3114\n",
       "Hesawa                    2202\n",
       "Rwssp                     1374\n",
       "World Bank                1349\n",
       "Kkkt                      1287\n",
       "World Vision              1246\n",
       "Unicef                    1057\n",
       "Tasaf                      877\n",
       "Name: funder, dtype: int64"
      ]
     },
     "execution_count": 132,
     "metadata": {},
     "output_type": "execute_result"
    }
   ],
   "source": [
    "data[\"funder\"].value_counts().head(10)"
   ]
  },
  {
   "cell_type": "code",
   "execution_count": 133,
   "id": "cb321cab",
   "metadata": {},
   "outputs": [],
   "source": [
    "data['funder_c'] = data['funder']\n",
    "test['funder_c'] = test['funder']\n",
    "\n",
    "fund_cats = ['Government Of Tanzania',\n",
    "          'Unknown',\n",
    "          'Danida',\n",
    "          'Hesawa',\n",
    "          'Rwssp',\n",
    "          'World Bank',\n",
    "          'Kkkt', \n",
    "          'World Vision',\n",
    "          'Unicef',\n",
    "          'Tasaf']\n",
    "    \n",
    "\n",
    "data.loc[~data[\"funder_c\"].isin(fund_cats), \"funder_c\"] = \"Others\"\n",
    "test.loc[~test[\"funder_c\"].isin(fund_cats), \"funder_c\"] = \"Others\""
   ]
  },
  {
   "cell_type": "code",
   "execution_count": 134,
   "id": "49fa3dec",
   "metadata": {},
   "outputs": [],
   "source": [
    "data.drop(columns=['funder','installer'],inplace=True )\n",
    "test.drop(columns=['funder','installer'],inplace=True )"
   ]
  },
  {
   "cell_type": "code",
   "execution_count": 135,
   "id": "c0a113fb",
   "metadata": {},
   "outputs": [
    {
     "data": {
      "text/plain": [
       "none                       3563\n",
       "Shuleni                    1748\n",
       "Zahanati                    830\n",
       "Msikitini                   535\n",
       "Kanisani                    323\n",
       "                           ... \n",
       "Kwa Medadi                    1\n",
       "Kwa Kubembeni                 1\n",
       "Shule Ya Msingi Milanzi       1\n",
       "Funua                         1\n",
       "Kwa Mzee Lugawa               1\n",
       "Name: wpt_name, Length: 37400, dtype: int64"
      ]
     },
     "execution_count": 135,
     "metadata": {},
     "output_type": "execute_result"
    }
   ],
   "source": [
    "data[\"wpt_name\"].value_counts()"
   ]
  },
  {
   "cell_type": "code",
   "execution_count": 136,
   "id": "0c43ff46",
   "metadata": {},
   "outputs": [],
   "source": [
    "#drop high cardinality column wpt_name\n",
    "data.drop(columns=['wpt_name'],inplace=True )\n",
    "test.drop(columns=['wpt_name'],inplace=True )"
   ]
  },
  {
   "cell_type": "code",
   "execution_count": 137,
   "id": "a6169ad3",
   "metadata": {},
   "outputs": [],
   "source": [
    "data.drop(columns=['date_recorded'],inplace=True )\n",
    "test.drop(columns=['date_recorded'],inplace=True )"
   ]
  },
  {
   "cell_type": "code",
   "execution_count": 138,
   "id": "6549839a",
   "metadata": {},
   "outputs": [],
   "source": [
    "data.drop(columns=['lga','ward'],inplace=True )\n",
    "test.drop(columns=['lga','ward'],inplace=True )"
   ]
  },
  {
   "cell_type": "code",
   "execution_count": 139,
   "id": "fa9e8a4f",
   "metadata": {},
   "outputs": [],
   "source": [
    "data['permit'] = data['permit'].astype(bool).astype(int) \n",
    "test['permit'] = test['permit'].astype(bool).astype(int)"
   ]
  },
  {
   "cell_type": "code",
   "execution_count": 140,
   "id": "e91e5036",
   "metadata": {},
   "outputs": [],
   "source": [
    "data['public_meeting'] = data['public_meeting'].astype(bool).astype(int) \n",
    "test['public_meeting'] = test['public_meeting'].astype(bool).astype(int) "
   ]
  },
  {
   "cell_type": "markdown",
   "id": "a5a35d05",
   "metadata": {},
   "source": [
    "# Encoding"
   ]
  },
  {
   "cell_type": "code",
   "execution_count": 141,
   "id": "2d9ebb66",
   "metadata": {},
   "outputs": [],
   "source": [
    "target_status_group = {'functional':0, \n",
    "                       'non functional': 1, \n",
    "                       'functional needs repair': 2} \n",
    "data['status_group'] = data['status_group'].replace(target_status_group)"
   ]
  },
  {
   "cell_type": "code",
   "execution_count": 142,
   "id": "9db4ae36",
   "metadata": {},
   "outputs": [],
   "source": [
    "y=data.pop(\"status_group\")"
   ]
  },
  {
   "cell_type": "code",
   "execution_count": 143,
   "id": "64065d93",
   "metadata": {},
   "outputs": [],
   "source": [
    "x=data\n",
    "x_t=test"
   ]
  },
  {
   "cell_type": "code",
   "execution_count": 144,
   "id": "29f3ed07",
   "metadata": {},
   "outputs": [],
   "source": [
    "cat_col = ['basin',\n",
    "           'region',\n",
    "           'extraction_type_group',\n",
    "           'management',\n",
    "           'payment',\n",
    "           'water_quality',\n",
    "           'quantity',\n",
    "           'source',\n",
    "           'waterpoint_type',\n",
    "           'decade',\n",
    "           'installer_c',\n",
    "           'funder_c']\n",
    "num_col = ['gps_height',\n",
    "           'longitude',\n",
    "           'latitude',\n",
    "           'district_code',\n",
    "           'population',\n",
    "           'public_meeting',\n",
    "           'permit']"
   ]
  },
  {
   "cell_type": "code",
   "execution_count": 145,
   "id": "f2fa619e",
   "metadata": {},
   "outputs": [],
   "source": [
    "cat=data[cat_col]\n",
    "con=data[num_col]\n",
    "cat_t=test[cat_col]\n",
    "con_t=test[num_col]"
   ]
  },
  {
   "cell_type": "code",
   "execution_count": 146,
   "id": "0d4690bf",
   "metadata": {},
   "outputs": [],
   "source": [
    "x=con.join(pd.get_dummies(cat))\n",
    "x_t=con_t.join(pd.get_dummies(cat_t))"
   ]
  },
  {
   "cell_type": "markdown",
   "id": "5b9217f4",
   "metadata": {},
   "source": [
    "# Base Model"
   ]
  },
  {
   "cell_type": "code",
   "execution_count": 148,
   "id": "1629f8fd",
   "metadata": {},
   "outputs": [],
   "source": [
    "x_train,x_test,y_train,y_test=train_test_split(x,y,test_size=0.3,random_state=50)"
   ]
  },
  {
   "cell_type": "code",
   "execution_count": 149,
   "id": "e8f9c3bc",
   "metadata": {},
   "outputs": [],
   "source": [
    "def evaluate_model(x, y, model):\n",
    "    cv = RepeatedStratifiedKFold(n_splits=5, n_repeats=3, random_state=1)\n",
    "    scores = cross_val_score(model, x, y, scoring='accuracy', cv=cv, n_jobs=-1)\n",
    "    return scores"
   ]
  },
  {
   "cell_type": "code",
   "execution_count": 150,
   "id": "18bb7463",
   "metadata": {},
   "outputs": [],
   "source": [
    "# confusion matrix\n",
    "def get_confusion(x, y, model):\n",
    "    x_train,x_test,y_train,y_test=train_test_split(x,y,test_size=0.2,random_state=50)\n",
    "    model.fit(x_train,y_train)\n",
    "    y_pred=model.predict(x_test)\n",
    "    cm=confusion_matrix(y_test, y_pred)\n",
    "    print(classification_report(y_test,y_pred))\n",
    "    return cm"
   ]
  },
  {
   "cell_type": "code",
   "execution_count": 164,
   "id": "6c9e0866",
   "metadata": {},
   "outputs": [],
   "source": [
    "class_names=list(train_labels[\"status_group\"].unique())"
   ]
  },
  {
   "cell_type": "code",
   "execution_count": 151,
   "id": "6a998442",
   "metadata": {},
   "outputs": [],
   "source": [
    "model=XGBClassifier()"
   ]
  },
  {
   "cell_type": "code",
   "execution_count": 160,
   "id": "23336c3b",
   "metadata": {},
   "outputs": [
    {
     "data": {
      "text/plain": [
       "array([0.79873737, 0.79292929, 0.79722222, 0.79570707, 0.80075758,\n",
       "       0.79671717, 0.80126263, 0.79393939, 0.79292929, 0.79208754,\n",
       "       0.79427609, 0.7952862 , 0.79747475, 0.79469697, 0.79335017])"
      ]
     },
     "execution_count": 160,
     "metadata": {},
     "output_type": "execute_result"
    },
    {
     "name": "stderr",
     "output_type": "stream",
     "text": [
      "/opt/conda/lib/python3.7/site-packages/xgboost/sklearn.py:1146: UserWarning: The use of label encoder in XGBClassifier is deprecated and will be removed in a future release. To remove this warning, do the following: 1) Pass option use_label_encoder=False when constructing XGBClassifier object; and 2) Encode your labels (y) as integers starting with 0, i.e. 0, 1, 2, ..., [num_class - 1].\n",
      "  warnings.warn(label_encoder_deprecation_msg, UserWarning)\n"
     ]
    },
    {
     "name": "stdout",
     "output_type": "stream",
     "text": [
      "[08:39:00] WARNING: ../src/learner.cc:1095: Starting in XGBoost 1.3.0, the default evaluation metric used with the objective 'multi:softprob' was changed from 'merror' to 'mlogloss'. Explicitly set eval_metric if you'd like to restore the old behavior.\n"
     ]
    },
    {
     "name": "stderr",
     "output_type": "stream",
     "text": [
      "/opt/conda/lib/python3.7/site-packages/xgboost/sklearn.py:1146: UserWarning: The use of label encoder in XGBClassifier is deprecated and will be removed in a future release. To remove this warning, do the following: 1) Pass option use_label_encoder=False when constructing XGBClassifier object; and 2) Encode your labels (y) as integers starting with 0, i.e. 0, 1, 2, ..., [num_class - 1].\n",
      "  warnings.warn(label_encoder_deprecation_msg, UserWarning)\n"
     ]
    },
    {
     "name": "stdout",
     "output_type": "stream",
     "text": [
      "[08:39:04] WARNING: ../src/learner.cc:1095: Starting in XGBoost 1.3.0, the default evaluation metric used with the objective 'multi:softprob' was changed from 'merror' to 'mlogloss'. Explicitly set eval_metric if you'd like to restore the old behavior.\n"
     ]
    },
    {
     "name": "stderr",
     "output_type": "stream",
     "text": [
      "/opt/conda/lib/python3.7/site-packages/xgboost/sklearn.py:1146: UserWarning: The use of label encoder in XGBClassifier is deprecated and will be removed in a future release. To remove this warning, do the following: 1) Pass option use_label_encoder=False when constructing XGBClassifier object; and 2) Encode your labels (y) as integers starting with 0, i.e. 0, 1, 2, ..., [num_class - 1].\n",
      "  warnings.warn(label_encoder_deprecation_msg, UserWarning)\n"
     ]
    },
    {
     "name": "stdout",
     "output_type": "stream",
     "text": [
      "[08:39:03] WARNING: ../src/learner.cc:1095: Starting in XGBoost 1.3.0, the default evaluation metric used with the objective 'multi:softprob' was changed from 'merror' to 'mlogloss'. Explicitly set eval_metric if you'd like to restore the old behavior.\n"
     ]
    },
    {
     "name": "stderr",
     "output_type": "stream",
     "text": [
      "/opt/conda/lib/python3.7/site-packages/xgboost/sklearn.py:1146: UserWarning: The use of label encoder in XGBClassifier is deprecated and will be removed in a future release. To remove this warning, do the following: 1) Pass option use_label_encoder=False when constructing XGBClassifier object; and 2) Encode your labels (y) as integers starting with 0, i.e. 0, 1, 2, ..., [num_class - 1].\n",
      "  warnings.warn(label_encoder_deprecation_msg, UserWarning)\n"
     ]
    },
    {
     "name": "stdout",
     "output_type": "stream",
     "text": [
      "[08:38:56] WARNING: ../src/learner.cc:1095: Starting in XGBoost 1.3.0, the default evaluation metric used with the objective 'multi:softprob' was changed from 'merror' to 'mlogloss'. Explicitly set eval_metric if you'd like to restore the old behavior.\n",
      "[08:38:55] WARNING: ../src/learner.cc:1095: Starting in XGBoost 1.3.0, the default evaluation metric used with the objective 'multi:softprob' was changed from 'merror' to 'mlogloss'. Explicitly set eval_metric if you'd like to restore the old behavior.\n"
     ]
    },
    {
     "name": "stderr",
     "output_type": "stream",
     "text": [
      "/opt/conda/lib/python3.7/site-packages/xgboost/sklearn.py:1146: UserWarning: The use of label encoder in XGBClassifier is deprecated and will be removed in a future release. To remove this warning, do the following: 1) Pass option use_label_encoder=False when constructing XGBClassifier object; and 2) Encode your labels (y) as integers starting with 0, i.e. 0, 1, 2, ..., [num_class - 1].\n",
      "  warnings.warn(label_encoder_deprecation_msg, UserWarning)\n",
      "/opt/conda/lib/python3.7/site-packages/xgboost/sklearn.py:1146: UserWarning: The use of label encoder in XGBClassifier is deprecated and will be removed in a future release. To remove this warning, do the following: 1) Pass option use_label_encoder=False when constructing XGBClassifier object; and 2) Encode your labels (y) as integers starting with 0, i.e. 0, 1, 2, ..., [num_class - 1].\n",
      "  warnings.warn(label_encoder_deprecation_msg, UserWarning)\n"
     ]
    },
    {
     "name": "stdout",
     "output_type": "stream",
     "text": [
      "[08:38:49] WARNING: ../src/learner.cc:1095: Starting in XGBoost 1.3.0, the default evaluation metric used with the objective 'multi:softprob' was changed from 'merror' to 'mlogloss'. Explicitly set eval_metric if you'd like to restore the old behavior.\n"
     ]
    },
    {
     "name": "stderr",
     "output_type": "stream",
     "text": [
      "/opt/conda/lib/python3.7/site-packages/xgboost/sklearn.py:1146: UserWarning: The use of label encoder in XGBClassifier is deprecated and will be removed in a future release. To remove this warning, do the following: 1) Pass option use_label_encoder=False when constructing XGBClassifier object; and 2) Encode your labels (y) as integers starting with 0, i.e. 0, 1, 2, ..., [num_class - 1].\n",
      "  warnings.warn(label_encoder_deprecation_msg, UserWarning)\n"
     ]
    },
    {
     "name": "stdout",
     "output_type": "stream",
     "text": [
      "[08:39:02] WARNING: ../src/learner.cc:1095: Starting in XGBoost 1.3.0, the default evaluation metric used with the objective 'multi:softprob' was changed from 'merror' to 'mlogloss'. Explicitly set eval_metric if you'd like to restore the old behavior.\n"
     ]
    },
    {
     "name": "stderr",
     "output_type": "stream",
     "text": [
      "/opt/conda/lib/python3.7/site-packages/xgboost/sklearn.py:1146: UserWarning: The use of label encoder in XGBClassifier is deprecated and will be removed in a future release. To remove this warning, do the following: 1) Pass option use_label_encoder=False when constructing XGBClassifier object; and 2) Encode your labels (y) as integers starting with 0, i.e. 0, 1, 2, ..., [num_class - 1].\n",
      "  warnings.warn(label_encoder_deprecation_msg, UserWarning)\n"
     ]
    },
    {
     "name": "stdout",
     "output_type": "stream",
     "text": [
      "[08:38:59] WARNING: ../src/learner.cc:1095: Starting in XGBoost 1.3.0, the default evaluation metric used with the objective 'multi:softprob' was changed from 'merror' to 'mlogloss'. Explicitly set eval_metric if you'd like to restore the old behavior.\n"
     ]
    },
    {
     "name": "stderr",
     "output_type": "stream",
     "text": [
      "/opt/conda/lib/python3.7/site-packages/xgboost/sklearn.py:1146: UserWarning: The use of label encoder in XGBClassifier is deprecated and will be removed in a future release. To remove this warning, do the following: 1) Pass option use_label_encoder=False when constructing XGBClassifier object; and 2) Encode your labels (y) as integers starting with 0, i.e. 0, 1, 2, ..., [num_class - 1].\n",
      "  warnings.warn(label_encoder_deprecation_msg, UserWarning)\n"
     ]
    },
    {
     "name": "stdout",
     "output_type": "stream",
     "text": [
      "[08:39:03] WARNING: ../src/learner.cc:1095: Starting in XGBoost 1.3.0, the default evaluation metric used with the objective 'multi:softprob' was changed from 'merror' to 'mlogloss'. Explicitly set eval_metric if you'd like to restore the old behavior.\n"
     ]
    },
    {
     "name": "stderr",
     "output_type": "stream",
     "text": [
      "/opt/conda/lib/python3.7/site-packages/xgboost/sklearn.py:1146: UserWarning: The use of label encoder in XGBClassifier is deprecated and will be removed in a future release. To remove this warning, do the following: 1) Pass option use_label_encoder=False when constructing XGBClassifier object; and 2) Encode your labels (y) as integers starting with 0, i.e. 0, 1, 2, ..., [num_class - 1].\n",
      "  warnings.warn(label_encoder_deprecation_msg, UserWarning)\n"
     ]
    },
    {
     "name": "stdout",
     "output_type": "stream",
     "text": [
      "[08:38:53] WARNING: ../src/learner.cc:1095: Starting in XGBoost 1.3.0, the default evaluation metric used with the objective 'multi:softprob' was changed from 'merror' to 'mlogloss'. Explicitly set eval_metric if you'd like to restore the old behavior.\n"
     ]
    },
    {
     "name": "stderr",
     "output_type": "stream",
     "text": [
      "/opt/conda/lib/python3.7/site-packages/xgboost/sklearn.py:1146: UserWarning: The use of label encoder in XGBClassifier is deprecated and will be removed in a future release. To remove this warning, do the following: 1) Pass option use_label_encoder=False when constructing XGBClassifier object; and 2) Encode your labels (y) as integers starting with 0, i.e. 0, 1, 2, ..., [num_class - 1].\n",
      "  warnings.warn(label_encoder_deprecation_msg, UserWarning)\n"
     ]
    },
    {
     "name": "stdout",
     "output_type": "stream",
     "text": [
      "[08:38:59] WARNING: ../src/learner.cc:1095: Starting in XGBoost 1.3.0, the default evaluation metric used with the objective 'multi:softprob' was changed from 'merror' to 'mlogloss'. Explicitly set eval_metric if you'd like to restore the old behavior.\n"
     ]
    },
    {
     "name": "stderr",
     "output_type": "stream",
     "text": [
      "/opt/conda/lib/python3.7/site-packages/xgboost/sklearn.py:1146: UserWarning: The use of label encoder in XGBClassifier is deprecated and will be removed in a future release. To remove this warning, do the following: 1) Pass option use_label_encoder=False when constructing XGBClassifier object; and 2) Encode your labels (y) as integers starting with 0, i.e. 0, 1, 2, ..., [num_class - 1].\n",
      "  warnings.warn(label_encoder_deprecation_msg, UserWarning)\n"
     ]
    },
    {
     "name": "stdout",
     "output_type": "stream",
     "text": [
      "[08:39:03] WARNING: ../src/learner.cc:1095: Starting in XGBoost 1.3.0, the default evaluation metric used with the objective 'multi:softprob' was changed from 'merror' to 'mlogloss'. Explicitly set eval_metric if you'd like to restore the old behavior.\n"
     ]
    },
    {
     "name": "stderr",
     "output_type": "stream",
     "text": [
      "/opt/conda/lib/python3.7/site-packages/xgboost/sklearn.py:1146: UserWarning: The use of label encoder in XGBClassifier is deprecated and will be removed in a future release. To remove this warning, do the following: 1) Pass option use_label_encoder=False when constructing XGBClassifier object; and 2) Encode your labels (y) as integers starting with 0, i.e. 0, 1, 2, ..., [num_class - 1].\n",
      "  warnings.warn(label_encoder_deprecation_msg, UserWarning)\n"
     ]
    },
    {
     "name": "stdout",
     "output_type": "stream",
     "text": [
      "[08:38:58] WARNING: ../src/learner.cc:1095: Starting in XGBoost 1.3.0, the default evaluation metric used with the objective 'multi:softprob' was changed from 'merror' to 'mlogloss'. Explicitly set eval_metric if you'd like to restore the old behavior.\n"
     ]
    },
    {
     "name": "stderr",
     "output_type": "stream",
     "text": [
      "/opt/conda/lib/python3.7/site-packages/xgboost/sklearn.py:1146: UserWarning: The use of label encoder in XGBClassifier is deprecated and will be removed in a future release. To remove this warning, do the following: 1) Pass option use_label_encoder=False when constructing XGBClassifier object; and 2) Encode your labels (y) as integers starting with 0, i.e. 0, 1, 2, ..., [num_class - 1].\n",
      "  warnings.warn(label_encoder_deprecation_msg, UserWarning)\n"
     ]
    },
    {
     "name": "stdout",
     "output_type": "stream",
     "text": [
      "[08:38:52] WARNING: ../src/learner.cc:1095: Starting in XGBoost 1.3.0, the default evaluation metric used with the objective 'multi:softprob' was changed from 'merror' to 'mlogloss'. Explicitly set eval_metric if you'd like to restore the old behavior.\n"
     ]
    },
    {
     "name": "stderr",
     "output_type": "stream",
     "text": [
      "/opt/conda/lib/python3.7/site-packages/xgboost/sklearn.py:1146: UserWarning: The use of label encoder in XGBClassifier is deprecated and will be removed in a future release. To remove this warning, do the following: 1) Pass option use_label_encoder=False when constructing XGBClassifier object; and 2) Encode your labels (y) as integers starting with 0, i.e. 0, 1, 2, ..., [num_class - 1].\n",
      "  warnings.warn(label_encoder_deprecation_msg, UserWarning)\n"
     ]
    },
    {
     "name": "stdout",
     "output_type": "stream",
     "text": [
      "[08:39:03] WARNING: ../src/learner.cc:1095: Starting in XGBoost 1.3.0, the default evaluation metric used with the objective 'multi:softprob' was changed from 'merror' to 'mlogloss'. Explicitly set eval_metric if you'd like to restore the old behavior.\n"
     ]
    }
   ],
   "source": [
    "scores = evaluate_model(x, y, model)\n",
    "print('Base Model Mean Accuracy: %.3f (%.3f)' % (np.mean(scores), np.std(scores)))"
   ]
  },
  {
   "cell_type": "code",
   "execution_count": 161,
   "id": "985b387e",
   "metadata": {},
   "outputs": [
    {
     "name": "stderr",
     "output_type": "stream",
     "text": [
      "/opt/conda/lib/python3.7/site-packages/xgboost/sklearn.py:1146: UserWarning: The use of label encoder in XGBClassifier is deprecated and will be removed in a future release. To remove this warning, do the following: 1) Pass option use_label_encoder=False when constructing XGBClassifier object; and 2) Encode your labels (y) as integers starting with 0, i.e. 0, 1, 2, ..., [num_class - 1].\n",
      "  warnings.warn(label_encoder_deprecation_msg, UserWarning)\n"
     ]
    },
    {
     "name": "stdout",
     "output_type": "stream",
     "text": [
      "[09:27:50] WARNING: ../src/learner.cc:1095: Starting in XGBoost 1.3.0, the default evaluation metric used with the objective 'multi:softprob' was changed from 'merror' to 'mlogloss'. Explicitly set eval_metric if you'd like to restore the old behavior.\n",
      "              precision    recall  f1-score   support\n",
      "\n",
      "           0       0.77      0.91      0.83      6324\n",
      "           1       0.85      0.73      0.79      4661\n",
      "           2       0.70      0.25      0.37       895\n",
      "\n",
      "    accuracy                           0.79     11880\n",
      "   macro avg       0.77      0.63      0.66     11880\n",
      "weighted avg       0.79      0.79      0.78     11880\n",
      "\n"
     ]
    }
   ],
   "source": [
    "cm=get_confusion(x, y, model)"
   ]
  },
  {
   "cell_type": "code",
   "execution_count": 165,
   "id": "e0ebe11b",
   "metadata": {},
   "outputs": [
    {
     "data": {
      "text/plain": [
       "<sklearn.metrics._plot.confusion_matrix.ConfusionMatrixDisplay at 0x7f252acb3410>"
      ]
     },
     "execution_count": 165,
     "metadata": {},
     "output_type": "execute_result"
    },
    {
     "data": {
      "image/png": "[encoded data removed]",
      "text/plain": [
       "<Figure size 432x288 with 2 Axes>"
      ]
     },
     "metadata": {
      "needs_background": "light"
     },
     "output_type": "display_data"
    }
   ],
   "source": [
    "disp = ConfusionMatrixDisplay(confusion_matrix=cm,display_labels=class_names)\n",
    "disp.plot(cmap = \"Blues_r\") "
   ]
  },
  {
   "cell_type": "markdown",
   "id": "54d75026",
   "metadata": {},
   "source": [
    "# Hyperparameter Optimization"
   ]
  },
  {
   "cell_type": "code",
   "execution_count": 166,
   "id": "5e876972",
   "metadata": {},
   "outputs": [],
   "source": [
    "def objective(trial: Trial,x,y) -> float:\n",
    "    \n",
    "    joblib.dump(study, 'study.pkl')\n",
    "\n",
    "    param = {\n",
    "                \"n_estimators\" : trial.suggest_int('n_estimators', 0, 2000),\n",
    "                'max_depth':trial.suggest_int('max_depth', 2, 100),\n",
    "                'reg_alpha':trial.suggest_int('reg_alpha', 0, 20),\n",
    "                'reg_lambda':trial.suggest_int('reg_lambda', 0, 20),\n",
    "                'min_child_weight':trial.suggest_int('min_child_weight', 0, 20),\n",
    "                'gamma':trial.suggest_int('gamma', 0, 10),\n",
    "                'learning_rate':trial.suggest_loguniform('learning_rate',0.005,1),\n",
    "                'colsample_bytree':trial.suggest_discrete_uniform('colsample_bytree',0.1,1,0.001),\n",
    "                'nthread' : -1,\n",
    "                \"objective\":'multi:softmax'\n",
    "            }\n",
    "    \n",
    "    model = XGBClassifier(**param)\n",
    "    \n",
    "    return cross_val_score(model, x, y, cv=3, scoring='accuracy').mean()"
   ]
  },
  {
   "cell_type": "code",
   "execution_count": 167,
   "id": "b30bd604",
   "metadata": {
    "scrolled": true
   },
   "outputs": [
    {
     "name": "stderr",
     "output_type": "stream",
     "text": [
      "\u001b[32m[I 2021-09-17 09:30:44,839]\u001b[0m A new study created in memory with name: no-name-3ad437e3-8378-4189-954a-8dba90df2525\u001b[0m\n",
      "/opt/conda/lib/python3.7/site-packages/xgboost/sklearn.py:1146: UserWarning: The use of label encoder in XGBClassifier is deprecated and will be removed in a future release. To remove this warning, do the following: 1) Pass option use_label_encoder=False when constructing XGBClassifier object; and 2) Encode your labels (y) as integers starting with 0, i.e. 0, 1, 2, ..., [num_class - 1].\n",
      "  warnings.warn(label_encoder_deprecation_msg, UserWarning)\n"
     ]
    },
    {
     "name": "stdout",
     "output_type": "stream",
     "text": [
      "[09:30:45] WARNING: ../src/learner.cc:1095: Starting in XGBoost 1.3.0, the default evaluation metric used with the objective 'multi:softprob' was changed from 'merror' to 'mlogloss'. Explicitly set eval_metric if you'd like to restore the old behavior.\n"
     ]
    },
    {
     "name": "stderr",
     "output_type": "stream",
     "text": [
      "/opt/conda/lib/python3.7/site-packages/xgboost/sklearn.py:1146: UserWarning: The use of label encoder in XGBClassifier is deprecated and will be removed in a future release. To remove this warning, do the following: 1) Pass option use_label_encoder=False when constructing XGBClassifier object; and 2) Encode your labels (y) as integers starting with 0, i.e. 0, 1, 2, ..., [num_class - 1].\n",
      "  warnings.warn(label_encoder_deprecation_msg, UserWarning)\n"
     ]
    },
    {
     "name": "stdout",
     "output_type": "stream",
     "text": [
      "[09:31:54] WARNING: ../src/learner.cc:1095: Starting in XGBoost 1.3.0, the default evaluation metric used with the objective 'multi:softprob' was changed from 'merror' to 'mlogloss'. Explicitly set eval_metric if you'd like to restore the old behavior.\n"
     ]
    },
    {
     "name": "stderr",
     "output_type": "stream",
     "text": [
      "/opt/conda/lib/python3.7/site-packages/xgboost/sklearn.py:1146: UserWarning: The use of label encoder in XGBClassifier is deprecated and will be removed in a future release. To remove this warning, do the following: 1) Pass option use_label_encoder=False when constructing XGBClassifier object; and 2) Encode your labels (y) as integers starting with 0, i.e. 0, 1, 2, ..., [num_class - 1].\n",
      "  warnings.warn(label_encoder_deprecation_msg, UserWarning)\n"
     ]
    },
    {
     "name": "stdout",
     "output_type": "stream",
     "text": [
      "[09:33:02] WARNING: ../src/learner.cc:1095: Starting in XGBoost 1.3.0, the default evaluation metric used with the objective 'multi:softprob' was changed from 'merror' to 'mlogloss'. Explicitly set eval_metric if you'd like to restore the old behavior.\n"
     ]
    },
    {
     "name": "stderr",
     "output_type": "stream",
     "text": [
      "\u001b[32m[I 2021-09-17 09:34:11,383]\u001b[0m Trial 0 finished with value: 0.7686026936026936 and parameters: {'n_estimators': 531, 'max_depth': 34, 'reg_alpha': 14, 'reg_lambda': 1, 'min_child_weight': 9, 'gamma': 7, 'learning_rate': 0.027385334826457844, 'colsample_bytree': 0.44600000000000006}. Best is trial 0 with value: 0.7686026936026936.\u001b[0m\n"
     ]
    }
   ],
   "source": [
    "study = optuna.create_study(direction='maximize',sampler=TPESampler())\n",
    "study.optimize(lambda trial : objective(trial,x,y),n_trials= 100)"
   ]
  },
  {
   "cell_type": "code",
   "execution_count": 168,
   "id": "d067d8e4",
   "metadata": {},
   "outputs": [
    {
     "name": "stdout",
     "output_type": "stream",
     "text": [
      "Number of finished trials: 1\n",
      "Best trial:\n",
      "  Value: 0.7686026936026936\n",
      "  Params: \n",
      "    n_estimators=531,\n",
      "    max_depth=34,\n",
      "    reg_alpha=14,\n",
      "    reg_lambda=1,\n",
      "    min_child_weight=9,\n",
      "    gamma=7,\n",
      "    learning_rate=0.027385334826457844,\n",
      "    colsample_bytree=0.44600000000000006,\n"
     ]
    }
   ],
   "source": [
    "print(\"Number of finished trials: {}\".format(len(study.trials)))\n",
    "print(\"Best trial:\")\n",
    "trial = study.best_trial\n",
    "print(\"  Value: {}\".format(trial.value))\n",
    "print(\"  Params: \")\n",
    "for key, value in trial.params.items():\n",
    "    print(\"    {}={},\".format(key, value))"
   ]
  },
  {
   "cell_type": "code",
   "execution_count": 169,
   "id": "b2a6939e",
   "metadata": {},
   "outputs": [],
   "source": [
    "best_model = XGBClassifier(\n",
    "    n_estimators=trial.params.get('n_estimators'),\n",
    "    max_depth=trial.params.get('max_depth'),\n",
    "    reg_alpha=trial.params.get('reg_alpha'),\n",
    "    reg_lambda=trial.params.get('reg_lambda'),\n",
    "    min_child_weight=trial.params.get('min_child_weight'),\n",
    "    gamma=trial.params.get('gamma'),\n",
    "    learning_rate=trial.params.get('learning_rate'),\n",
    "    colsample_bytree=trial.params.get('colsample_bytree')\n",
    ")"
   ]
  },
  {
   "cell_type": "code",
   "execution_count": null,
   "id": "3b15e13b",
   "metadata": {},
   "outputs": [],
   "source": [
    "scores = evaluate_model(x, y, best_model)\n",
    "print('Best model mean Accuracy: %.3f (%.3f)' % (mean(scores), std(scores)))"
   ]
  },
  {
   "cell_type": "code",
   "execution_count": 51,
   "id": "77a2a1ea",
   "metadata": {},
   "outputs": [
    {
     "name": "stderr",
     "output_type": "stream",
     "text": [
      "/opt/conda/lib/python3.7/site-packages/xgboost/sklearn.py:1146: UserWarning: The use of label encoder in XGBClassifier is deprecated and will be removed in a future release. To remove this warning, do the following: 1) Pass option use_label_encoder=False when constructing XGBClassifier object; and 2) Encode your labels (y) as integers starting with 0, i.e. 0, 1, 2, ..., [num_class - 1].\n",
      "  warnings.warn(label_encoder_deprecation_msg, UserWarning)\n"
     ]
    },
    {
     "name": "stdout",
     "output_type": "stream",
     "text": [
      "[11:31:03] WARNING: ../src/learner.cc:1095: Starting in XGBoost 1.3.0, the default evaluation metric used with the objective 'multi:softprob' was changed from 'merror' to 'mlogloss'. Explicitly set eval_metric if you'd like to restore the old behavior.\n"
     ]
    },
    {
     "data": {
      "text/plain": [
       "XGBClassifier(base_score=0.5, booster='gbtree', colsample_bylevel=1,\n",
       "              colsample_bynode=1, colsample_bytree=0.7, gamma=0, gpu_id=-1,\n",
       "              importance_type='gain', interaction_constraints='',\n",
       "              learning_rate=0.006037524364991608, max_delta_step=0,\n",
       "              max_depth=25, min_child_weight=1, missing=nan,\n",
       "              monotone_constraints='()', n_estimators=992, n_jobs=16,\n",
       "              num_parallel_tree=1, objective='multi:softprob', random_state=0,\n",
       "              reg_alpha=1, reg_lambda=4, scale_pos_weight=None, subsample=1,\n",
       "              tree_method='exact', validate_parameters=1, verbosity=None)"
      ]
     },
     "execution_count": 51,
     "metadata": {},
     "output_type": "execute_result"
    }
   ],
   "source": [
    "cm=get_confusion(x, y, best_model)\n",
    "disp = ConfusionMatrixDisplay(confusion_matrix=cm,display_labels=class_names)\n",
    "disp.plot(cmap = \"Blues_r\") "
   ]
  },
  {
   "cell_type": "code",
   "execution_count": 54,
   "id": "ff837561",
   "metadata": {},
   "outputs": [
    {
     "name": "stderr",
     "output_type": "stream",
     "text": [
      "/opt/conda/lib/python3.7/site-packages/xgboost/sklearn.py:1146: UserWarning: The use of label encoder in XGBClassifier is deprecated and will be removed in a future release. To remove this warning, do the following: 1) Pass option use_label_encoder=False when constructing XGBClassifier object; and 2) Encode your labels (y) as integers starting with 0, i.e. 0, 1, 2, ..., [num_class - 1].\n",
      "  warnings.warn(label_encoder_deprecation_msg, UserWarning)\n"
     ]
    },
    {
     "name": "stdout",
     "output_type": "stream",
     "text": [
      "[11:37:30] WARNING: ../src/learner.cc:1095: Starting in XGBoost 1.3.0, the default evaluation metric used with the objective 'multi:softprob' was changed from 'merror' to 'mlogloss'. Explicitly set eval_metric if you'd like to restore the old behavior.\n"
     ]
    },
    {
     "data": {
      "text/plain": [
       "XGBClassifier(base_score=0.5, booster='gbtree', colsample_bylevel=1,\n",
       "              colsample_bynode=1, colsample_bytree=0.7, gamma=0, gpu_id=-1,\n",
       "              importance_type='gain', interaction_constraints='',\n",
       "              learning_rate=0.006037524364991608, max_delta_step=0,\n",
       "              max_depth=25, min_child_weight=1, missing=nan,\n",
       "              monotone_constraints='()', n_estimators=992, n_jobs=16,\n",
       "              num_parallel_tree=1, objective='multi:softprob', random_state=0,\n",
       "              reg_alpha=1, reg_lambda=4, scale_pos_weight=None, subsample=1,\n",
       "              tree_method='exact', validate_parameters=1, verbosity=None)"
      ]
     },
     "execution_count": 54,
     "metadata": {},
     "output_type": "execute_result"
    }
   ],
   "source": [
    "best_model.fit(x,y)"
   ]
  },
  {
   "cell_type": "code",
   "execution_count": 56,
   "id": "89387844",
   "metadata": {},
   "outputs": [
    {
     "data": {
      "text/plain": [
       "array([50785, 51630, 17168, ..., 28749, 33492, 68707])"
      ]
     },
     "execution_count": 56,
     "metadata": {},
     "output_type": "execute_result"
    }
   ],
   "source": [
    "indexes=pd.read_csv(\"test_set_features.csv\").iloc[:,0].values\n",
    "indexes"
   ]
  },
  {
   "cell_type": "code",
   "execution_count": 57,
   "id": "3dc1d44a",
   "metadata": {},
   "outputs": [],
   "source": [
    "pred=best_model.predict(x_t)"
   ]
  },
  {
   "cell_type": "code",
   "execution_count": 58,
   "id": "4970b03a",
   "metadata": {},
   "outputs": [],
   "source": [
    "status=pd.DataFrame({\"status_group\":pred})\n",
    "target_status_group = {0:'functional', \n",
    "                       2:'non functional', \n",
    "                       1:'functional needs repair'} \n",
    "status['status_group'] = status['status_group'].replace(target_status_group)"
   ]
  },
  {
   "cell_type": "code",
   "execution_count": 59,
   "id": "68f807d9",
   "metadata": {},
   "outputs": [],
   "source": [
    "id_f=pd.DataFrame({\"id\":indexes})"
   ]
  },
  {
   "cell_type": "code",
   "execution_count": 60,
   "id": "48ea5413",
   "metadata": {},
   "outputs": [],
   "source": [
    "out_data=id_f.join(status)"
   ]
  },
  {
   "cell_type": "code",
   "execution_count": 61,
   "id": "d51ccc22",
   "metadata": {},
   "outputs": [
    {
     "data": {
      "text/html": [
       "<div>\n",
       "<style scoped>\n",
       "    .dataframe tbody tr th:only-of-type {\n",
       "        vertical-align: middle;\n",
       "    }\n",
       "\n",
       "    .dataframe tbody tr th {\n",
       "        vertical-align: top;\n",
       "    }\n",
       "\n",
       "    .dataframe thead th {\n",
       "        text-align: right;\n",
       "    }\n",
       "</style>\n",
       "<table border=\"1\" class=\"dataframe\">\n",
       "  <thead>\n",
       "    <tr style=\"text-align: right;\">\n",
       "      <th></th>\n",
       "      <th>id</th>\n",
       "      <th>status_group</th>\n",
       "    </tr>\n",
       "  </thead>\n",
       "  <tbody>\n",
       "    <tr>\n",
       "      <th>0</th>\n",
       "      <td>50785</td>\n",
       "      <td>non functional</td>\n",
       "    </tr>\n",
       "    <tr>\n",
       "      <th>1</th>\n",
       "      <td>51630</td>\n",
       "      <td>functional</td>\n",
       "    </tr>\n",
       "    <tr>\n",
       "      <th>2</th>\n",
       "      <td>17168</td>\n",
       "      <td>functional</td>\n",
       "    </tr>\n",
       "    <tr>\n",
       "      <th>3</th>\n",
       "      <td>45559</td>\n",
       "      <td>non functional</td>\n",
       "    </tr>\n",
       "    <tr>\n",
       "      <th>4</th>\n",
       "      <td>49871</td>\n",
       "      <td>functional</td>\n",
       "    </tr>\n",
       "    <tr>\n",
       "      <th>...</th>\n",
       "      <td>...</td>\n",
       "      <td>...</td>\n",
       "    </tr>\n",
       "    <tr>\n",
       "      <th>14845</th>\n",
       "      <td>39307</td>\n",
       "      <td>non functional</td>\n",
       "    </tr>\n",
       "    <tr>\n",
       "      <th>14846</th>\n",
       "      <td>18990</td>\n",
       "      <td>functional</td>\n",
       "    </tr>\n",
       "    <tr>\n",
       "      <th>14847</th>\n",
       "      <td>28749</td>\n",
       "      <td>functional</td>\n",
       "    </tr>\n",
       "    <tr>\n",
       "      <th>14848</th>\n",
       "      <td>33492</td>\n",
       "      <td>functional</td>\n",
       "    </tr>\n",
       "    <tr>\n",
       "      <th>14849</th>\n",
       "      <td>68707</td>\n",
       "      <td>non functional</td>\n",
       "    </tr>\n",
       "  </tbody>\n",
       "</table>\n",
       "<p>14850 rows × 2 columns</p>\n",
       "</div>"
      ],
      "text/plain": [
       "          id    status_group\n",
       "0      50785  non functional\n",
       "1      51630      functional\n",
       "2      17168      functional\n",
       "3      45559  non functional\n",
       "4      49871      functional\n",
       "...      ...             ...\n",
       "14845  39307  non functional\n",
       "14846  18990      functional\n",
       "14847  28749      functional\n",
       "14848  33492      functional\n",
       "14849  68707  non functional\n",
       "\n",
       "[14850 rows x 2 columns]"
      ]
     },
     "execution_count": 61,
     "metadata": {},
     "output_type": "execute_result"
    }
   ],
   "source": [
    "out_data"
   ]
  },
  {
   "cell_type": "code",
   "execution_count": 63,
   "id": "ddca4664",
   "metadata": {},
   "outputs": [],
   "source": [
    "out_data.to_csv(\"pumpitupsub1.csv\",encoding='utf-8', index=False)"
   ]
  }
 ],
 "metadata": {
  "environment": {
   "name": "common-cpu.m78",
   "type": "gcloud",
   "uri": "gcr.io/deeplearning-platform-release/base-cpu:m78"
  },
  "kernelspec": {
   "display_name": "Python 3",
   "language": "python",
   "name": "python3"
  },
  "language_info": {
   "codemirror_mode": {
    "name": "ipython",
    "version": 3
   },
   "file_extension": ".py",
   "mimetype": "text/x-python",
   "name": "python",
   "nbconvert_exporter": "python",
   "pygments_lexer": "ipython3",
   "version": "3.7.10"
  }
 },
 "nbformat": 4,
 "nbformat_minor": 5
}
